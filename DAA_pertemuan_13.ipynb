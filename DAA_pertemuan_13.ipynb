{
  "nbformat": 4,
  "nbformat_minor": 0,
  "metadata": {
    "colab": {
      "provenance": [],
      "authorship_tag": "ABX9TyOgjq980E/7U9I51aR8bGMG",
      "include_colab_link": true
    },
    "kernelspec": {
      "name": "python3",
      "display_name": "Python 3"
    },
    "language_info": {
      "name": "python"
    }
  },
  "cells": [
    {
      "cell_type": "markdown",
      "metadata": {
        "id": "view-in-github",
        "colab_type": "text"
      },
      "source": [
        "<a href=\"https://colab.research.google.com/github/ArelliaAgustin/Desain-dan-Analisis-Algoritma/blob/main/DAA_pertemuan_13.ipynb\" target=\"_parent\"><img src=\"https://colab.research.google.com/assets/colab-badge.svg\" alt=\"Open In Colab\"/></a>"
      ]
    },
    {
      "cell_type": "code",
      "execution_count": 21,
      "metadata": {
        "colab": {
          "base_uri": "https://localhost:8080/"
        },
        "id": "7ENUT1N_rRmq",
        "outputId": "d63c2057-7685-406a-f2fb-d50ebce9c6ce"
      },
      "outputs": [
        {
          "output_type": "stream",
          "name": "stdout",
          "text": [
            "Amin\n"
          ]
        }
      ],
      "source": [
        "#Contoh penggunaan enqueue dan dequeu\n",
        "queue = []\n",
        "# Enqueue\n",
        "queue.append(\"Amin\")\n",
        "queue.append(\"Wasim\")\n",
        "queue.append(\"Nick\")\n",
        "# Dequeu\n",
        "node = queue.pop(0)\n",
        "print(node)\n",
        "# output: Amin"
      ]
    },
    {
      "cell_type": "code",
      "source": [
        "#Implementasi algoritma Breadth-First Search\n",
        "def bfs(graph,start):\n",
        "  visited= []\n",
        "  queue = []\n",
        "  queue = [start]\n",
        "  while queue:\n",
        "    node = queue.pop(0)\n",
        "    if node not in visited:\n",
        "      visited.append(node)\n",
        "      neighbours = graph[node]\n",
        "      for neighbours in neighbours:\n",
        "        queue.append(neighbours)\n",
        "  return visited"
      ],
      "metadata": {
        "id": "ubqSYb9nroo5"
      },
      "execution_count": 3,
      "outputs": []
    },
    {
      "cell_type": "code",
      "source": [
        "graph = {'Amin' : ['Wasim','Nick','Mike'],\n",
        "         'Wasim' : ['Imran','Amin'],\n",
        "         'Imran' : ['Wasim','Faras'],\n",
        "         'Faras' : ['Imran'],\n",
        "         'Mike' : ['Amin'],\n",
        "         'Nick' : ['Amin']\n",
        "         }"
      ],
      "metadata": {
        "id": "5Up-dw-mrrDM"
      },
      "execution_count": 4,
      "outputs": []
    },
    {
      "cell_type": "code",
      "source": [
        "bfs(graph,'Amin')\n",
        "['Amin','Wasim','Nick','Mike','Imran','Faras']"
      ],
      "metadata": {
        "colab": {
          "base_uri": "https://localhost:8080/"
        },
        "id": "VpT7hoMDrs_c",
        "outputId": "4b3159c6-9eb6-466f-d544-1265287d55cb"
      },
      "execution_count": 5,
      "outputs": [
        {
          "output_type": "execute_result",
          "data": {
            "text/plain": [
              "['Amin', 'Wasim', 'Nick', 'Mike', 'Imran', 'Faras']"
            ]
          },
          "metadata": {},
          "execution_count": 5
        }
      ]
    },
    {
      "cell_type": "code",
      "source": [
        "# O Amin -------------------\n",
        "# |            |            |\n",
        "# O Wasim   O Nick       O Mike\n",
        "# |\n",
        "# O Imran\n",
        "# |\n",
        "# O Faras\n",
        "\n",
        "bfs(graph,'Amin')"
      ],
      "metadata": {
        "colab": {
          "base_uri": "https://localhost:8080/"
        },
        "id": "P1PaLo-Prwij",
        "outputId": "8591f4bf-2056-47cd-bdb4-f2bfdcbb9e5b"
      },
      "execution_count": 6,
      "outputs": [
        {
          "output_type": "execute_result",
          "data": {
            "text/plain": [
              "['Amin', 'Wasim', 'Nick', 'Mike', 'Imran', 'Faras']"
            ]
          },
          "metadata": {},
          "execution_count": 6
        }
      ]
    },
    {
      "cell_type": "code",
      "source": [
        "# O Amin -------------------\n",
        "# |            |            |\n",
        "# O Wasim   O Nick       O Mike\n",
        "# |\n",
        "# O Imran\n",
        "# |\n",
        "# O Faras\n",
        "\n",
        "bfs(graph,'Wasim')"
      ],
      "metadata": {
        "colab": {
          "base_uri": "https://localhost:8080/"
        },
        "id": "tK1Eb4n4rxPg",
        "outputId": "82150fc3-9977-4200-e748-873995e3aae1"
      },
      "execution_count": 7,
      "outputs": [
        {
          "output_type": "execute_result",
          "data": {
            "text/plain": [
              "['Wasim', 'Imran', 'Amin', 'Faras', 'Nick', 'Mike']"
            ]
          },
          "metadata": {},
          "execution_count": 7
        }
      ]
    },
    {
      "cell_type": "code",
      "source": [
        "# O Amin -------------------\n",
        "# |            |            |\n",
        "# O Wasim   O Nick       O Mike\n",
        "# |\n",
        "# O Imran\n",
        "# |\n",
        "# O Faras\n",
        "\n",
        "bfs(graph,'Faras')"
      ],
      "metadata": {
        "colab": {
          "base_uri": "https://localhost:8080/"
        },
        "id": "BKliC4-hr2ay",
        "outputId": "f1ec7e3b-4277-4cc2-b521-3f41bf613946"
      },
      "execution_count": 8,
      "outputs": [
        {
          "output_type": "execute_result",
          "data": {
            "text/plain": [
              "['Faras', 'Imran', 'Wasim', 'Amin', 'Nick', 'Mike']"
            ]
          },
          "metadata": {},
          "execution_count": 8
        }
      ]
    },
    {
      "cell_type": "code",
      "source": [
        "graph = {'0' : ['9','7','11'],\n",
        "         '9' : ['8','10','0'],\n",
        "         '7' : ['6','3','0','11'],\n",
        "         '8' : ['1','12','9'],\n",
        "         '6' : ['5','7'],\n",
        "         '12' : ['2','8'],\n",
        "         '3' : ['2','4','7'],\n",
        "         '5' : ['6'],\n",
        "         '4' : ['3'],\n",
        "         '1' : ['10','8'],\n",
        "         '2' : ['3','12'],\n",
        "         '10' : ['9','1'],\n",
        "         '11' : ['0','7']\n",
        "         }"
      ],
      "metadata": {
        "id": "_x-f30dor4oh"
      },
      "execution_count": 9,
      "outputs": []
    },
    {
      "cell_type": "code",
      "source": [
        "bfs(graph,'0')"
      ],
      "metadata": {
        "colab": {
          "base_uri": "https://localhost:8080/"
        },
        "id": "JjomXlZkr8rj",
        "outputId": "811476b3-89fc-4043-b780-f0b36be7ba45"
      },
      "execution_count": 10,
      "outputs": [
        {
          "output_type": "execute_result",
          "data": {
            "text/plain": [
              "['0', '9', '7', '11', '8', '10', '6', '3', '1', '12', '5', '2', '4']"
            ]
          },
          "metadata": {},
          "execution_count": 10
        }
      ]
    },
    {
      "cell_type": "code",
      "source": [
        "graph = {'Rektor' : ['Warek1','Warek2'],\n",
        "         'Warek2' : ['Kaprodi1','Kaprodi2','Kaprodi3','Rektor'],\n",
        "         'Kaprodi1' : ['DosenA','DosenB','DosenC','Warek2'],\n",
        "         'Kaprodi2' : ['DosenD','DosenE','Warek2'],\n",
        "         'Kaprodi3' : ['DosenF','DosenG','Warek2'],\n",
        "         'DosenG' : ['Kaprodi3'],\n",
        "         'DosenF' : ['Kaprodi3'],\n",
        "         'DosenD' : ['Kaprodi2'],\n",
        "         'DosenE' : ['Kaprodi2'],\n",
        "         'DosenC' : ['Kaprodi1'],\n",
        "         'DosenB' : ['Kaprodi1'],\n",
        "         'DosenA' : ['Kaprodi1'],\n",
        "         'Warek1' : ['Rektor']\n",
        "         }"
      ],
      "metadata": {
        "id": "xEoQB7Gir9-Z"
      },
      "execution_count": 11,
      "outputs": []
    },
    {
      "cell_type": "code",
      "source": [
        "bfs(graph,'Rektor')"
      ],
      "metadata": {
        "colab": {
          "base_uri": "https://localhost:8080/"
        },
        "id": "2RyCjeLMsAWi",
        "outputId": "73ede398-a41a-4fbf-9958-140cb8fdb611"
      },
      "execution_count": 12,
      "outputs": [
        {
          "output_type": "execute_result",
          "data": {
            "text/plain": [
              "['Rektor',\n",
              " 'Warek1',\n",
              " 'Warek2',\n",
              " 'Kaprodi1',\n",
              " 'Kaprodi2',\n",
              " 'Kaprodi3',\n",
              " 'DosenA',\n",
              " 'DosenB',\n",
              " 'DosenC',\n",
              " 'DosenD',\n",
              " 'DosenE',\n",
              " 'DosenF',\n",
              " 'DosenG']"
            ]
          },
          "metadata": {},
          "execution_count": 12
        }
      ]
    },
    {
      "cell_type": "code",
      "source": [
        "# DEPTH-FIRST SEARCH\n",
        "def dfs(visited, graph, node):\n",
        "  if node not in visited:\n",
        "    print(node)\n",
        "    visited.add(node)\n",
        "    visited.add(node)\n",
        "    for neighbour in graph[node]:\n",
        "      dfs(visited, graph, neighbour)"
      ],
      "metadata": {
        "id": "IXkQ_VSnsCGH"
      },
      "execution_count": 13,
      "outputs": []
    },
    {
      "cell_type": "code",
      "source": [
        "graph = {'Amin' : ['Wasim','Nick','Mike'],\n",
        "         'Wasim' : ['Imran','Amin'],\n",
        "         'Imran' : ['Wasim','Faras'],\n",
        "         'Faras' : ['Imran'],\n",
        "         'Mike' : ['Amin'],\n",
        "         'Nick' : ['Amin']\n",
        "         }"
      ],
      "metadata": {
        "id": "c1LPmBy3sJC0"
      },
      "execution_count": 14,
      "outputs": []
    },
    {
      "cell_type": "code",
      "source": [
        "visited = set()\n",
        "dfs(visited, graph, 'Amin')"
      ],
      "metadata": {
        "colab": {
          "base_uri": "https://localhost:8080/"
        },
        "id": "fOnOHHbfsLJR",
        "outputId": "98a9abe3-d284-4425-ed91-e388fe7df1c0"
      },
      "execution_count": 15,
      "outputs": [
        {
          "output_type": "stream",
          "name": "stdout",
          "text": [
            "Amin\n",
            "Wasim\n",
            "Imran\n",
            "Faras\n",
            "Nick\n",
            "Mike\n"
          ]
        }
      ]
    },
    {
      "cell_type": "code",
      "source": [
        "visited = set()\n",
        "dfs(visited, graph, 'Wasim')"
      ],
      "metadata": {
        "colab": {
          "base_uri": "https://localhost:8080/"
        },
        "id": "X-GPjrxEsOJD",
        "outputId": "1d1cdd39-f396-4fe8-d64b-20c04ee0b529"
      },
      "execution_count": 16,
      "outputs": [
        {
          "output_type": "stream",
          "name": "stdout",
          "text": [
            "Wasim\n",
            "Imran\n",
            "Faras\n",
            "Amin\n",
            "Nick\n",
            "Mike\n"
          ]
        }
      ]
    },
    {
      "cell_type": "code",
      "source": [
        "visited = set()\n",
        "dfs(visited, graph, 'Faras')"
      ],
      "metadata": {
        "colab": {
          "base_uri": "https://localhost:8080/"
        },
        "id": "OpSbeRrHsLQm",
        "outputId": "98a175d9-91ee-419a-89b6-a65f6ade15f7"
      },
      "execution_count": 17,
      "outputs": [
        {
          "output_type": "stream",
          "name": "stdout",
          "text": [
            "Faras\n",
            "Imran\n",
            "Wasim\n",
            "Amin\n",
            "Nick\n",
            "Mike\n"
          ]
        }
      ]
    },
    {
      "cell_type": "code",
      "source": [
        "visited = set()\n",
        "dfs(visited, graph, 'Nick')"
      ],
      "metadata": {
        "colab": {
          "base_uri": "https://localhost:8080/"
        },
        "id": "K6BHU4zwsLZA",
        "outputId": "32613fb7-2223-4247-990a-619b706b9f25"
      },
      "execution_count": 18,
      "outputs": [
        {
          "output_type": "stream",
          "name": "stdout",
          "text": [
            "Nick\n",
            "Amin\n",
            "Wasim\n",
            "Imran\n",
            "Faras\n",
            "Mike\n"
          ]
        }
      ]
    },
    {
      "cell_type": "code",
      "source": [
        "graph = {'Rektor' : ['Warek1','Warek2'],\n",
        "         'Warek2' : ['Kaprodi1','Kaprodi2','Kaprodi3','Rektor'],\n",
        "         'Kaprodi1' : ['DosenA','DosenB','DosenC','Warek2'],\n",
        "         'Kaprodi2' : ['DosenD','DosenE','Warek2'],\n",
        "         'Kaprodi3' : ['DosenF','DosenG','Warek2'],\n",
        "         'DosenG' : ['Kaprodi3'],\n",
        "         'DosenF' : ['Kaprodi3'],\n",
        "         'DosenD' : ['Kaprodi2'],\n",
        "         'DosenE' : ['Kaprodi2'],\n",
        "         'DosenC' : ['Kaprodi1'],\n",
        "         'DosenB' : ['Kaprodi1'],\n",
        "         'DosenA' : ['Kaprodi1'],\n",
        "         'Warek1' : ['Rektor']\n",
        "         }"
      ],
      "metadata": {
        "id": "BJIdfC3LsZLq"
      },
      "execution_count": 19,
      "outputs": []
    },
    {
      "cell_type": "code",
      "source": [
        "visited = set()\n",
        "dfs(visited, graph, 'Rektor')"
      ],
      "metadata": {
        "colab": {
          "base_uri": "https://localhost:8080/"
        },
        "id": "G-FHnrydsjMt",
        "outputId": "edd065dd-bb86-4736-c7a4-ef5f321e94a3"
      },
      "execution_count": 20,
      "outputs": [
        {
          "output_type": "stream",
          "name": "stdout",
          "text": [
            "Rektor\n",
            "Warek1\n",
            "Warek2\n",
            "Kaprodi1\n",
            "DosenA\n",
            "DosenB\n",
            "DosenC\n",
            "Kaprodi2\n",
            "DosenD\n",
            "DosenE\n",
            "Kaprodi3\n",
            "DosenF\n",
            "DosenG\n"
          ]
        }
      ]
    }
  ]
}