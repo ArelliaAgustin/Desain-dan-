{
  "nbformat": 4,
  "nbformat_minor": 0,
  "metadata": {
    "colab": {
      "provenance": [],
      "authorship_tag": "ABX9TyMfvCtI2j3UI8vva0Z8yhVj",
      "include_colab_link": true
    },
    "kernelspec": {
      "name": "python3",
      "display_name": "Python 3"
    },
    "language_info": {
      "name": "python"
    }
  },
  "cells": [
    {
      "cell_type": "markdown",
      "metadata": {
        "id": "view-in-github",
        "colab_type": "text"
      },
      "source": [
        "<a href=\"https://colab.research.google.com/github/ArelliaAgustin/Desain-dan-Analisis-Algoritma/blob/main/volume_tabung.ipynb\" target=\"_parent\"><img src=\"https://colab.research.google.com/assets/colab-badge.svg\" alt=\"Open In Colab\"/></a>"
      ]
    },
    {
      "cell_type": "code",
      "execution_count": 4,
      "metadata": {
        "colab": {
          "base_uri": "https://localhost:8080/"
        },
        "id": "ODtMK_4tm4im",
        "outputId": "20cddfa9-90f0-46b9-c7cd-8e5520faf9eb"
      },
      "outputs": [
        {
          "output_type": "stream",
          "name": "stdout",
          "text": [
            "volume tabung adalah 141.29999999999998\n"
          ]
        }
      ],
      "source": [
        "jarijari = 3\n",
        "phi = 3.14\n",
        "tinggi = 5\n",
        "\n",
        "volume = phi*jarijari*jarijari*tinggi\n",
        "\n",
        "print(\"volume tabung adalah\",volume)"
      ]
    }
  ]
}