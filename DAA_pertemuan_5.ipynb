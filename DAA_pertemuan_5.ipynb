{
  "nbformat": 4,
  "nbformat_minor": 0,
  "metadata": {
    "colab": {
      "provenance": [],
      "authorship_tag": "ABX9TyMj4LhP7Vn3cOtPHx5+l+5I",
      "include_colab_link": true
    },
    "kernelspec": {
      "name": "python3",
      "display_name": "Python 3"
    },
    "language_info": {
      "name": "python"
    }
  },
  "cells": [
    {
      "cell_type": "markdown",
      "metadata": {
        "id": "view-in-github",
        "colab_type": "text"
      },
      "source": [
        "<a href=\"https://colab.research.google.com/github/ArelliaAgustin/Desain-dan-Analisis-Algoritma/blob/main/DAA_pertemuan_5.ipynb\" target=\"_parent\"><img src=\"https://colab.research.google.com/assets/colab-badge.svg\" alt=\"Open In Colab\"/></a>"
      ]
    },
    {
      "cell_type": "code",
      "execution_count": 30,
      "metadata": {
        "colab": {
          "base_uri": "https://localhost:8080/"
        },
        "id": "utzAi3ZM81Bt",
        "outputId": "e67794ba-a723-451a-88ff-297b9441d185"
      },
      "outputs": [
        {
          "output_type": "stream",
          "name": "stdout",
          "text": [
            "6\n"
          ]
        }
      ],
      "source": [
        "#Hitung Inversi\n",
        "#untuk menghitung berapa banyak perubahan yang harus dilakukan untuk mengurutkan\n",
        "\n",
        "def countInversion(arr):\n",
        "  result=0\n",
        "  for i in range(len(arr)):\n",
        "    for j in range (i+1,len(arr)):\n",
        "      if arr[i]>arr[j]:\n",
        "        result+=1\n",
        "  return result\n",
        "\n",
        "arr=[21, 70, 36, 14, 25]\n",
        "result=countInversion(arr)\n",
        "print(result)"
      ]
    },
    {
      "cell_type": "code",
      "source": [
        "def countInversion(arr):\n",
        "  icount=0\n",
        "  if len(arr)<=1:\n",
        "    return icount\n",
        "\n",
        "  mid=len(arr)//2\n",
        "  left=arr[:mid]\n",
        "  right=arr[mid:]\n",
        "  icount+=countInversion(left)\n",
        "  icount+=countInversion(right)\n",
        "  i=j=k=0\n",
        "\n",
        "  #print(Left)\n",
        "  #print(right)\n",
        "  while i<len(left) and j<len(right):\n",
        "    if left[i]<right[j]:\n",
        "      arr[k]=left[i]\n",
        "      i+=1\n",
        "    else:\n",
        "      #print(left[i],right[j])\n",
        "      arr[k]=right[j]\n",
        "      j+=1\n",
        "      icount+=(mid-i)\n",
        "    k+=1\n",
        "    while i<len(left):\n",
        "      arr[k]=left[i]\n",
        "      i+=1\n",
        "      k+=1\n",
        "    while j<len(right):\n",
        "      arr[k]=right[j]\n",
        "      j+=1\n",
        "      k+=1\n",
        "    return icount\n",
        "\n",
        "arr=[1, 20, 6, 4, 5]\n",
        "result = countInversion(arr)\n",
        "print(result)"
      ],
      "metadata": {
        "colab": {
          "base_uri": "https://localhost:8080/"
        },
        "id": "7mEYfpF3_Iw6",
        "outputId": "16a4ee3f-4802-49be-b774-d93f7a37557d"
      },
      "execution_count": 31,
      "outputs": [
        {
          "output_type": "stream",
          "name": "stdout",
          "text": [
            "1\n"
          ]
        }
      ]
    },
    {
      "cell_type": "code",
      "source": [
        "#FUNGSI SUMMATION\n",
        "#menjumlahkan deret angka menggunakan variabel total\n",
        "arr = [3,7,5,2,1,8,9]\n",
        "total = 0\n",
        "for i in range (len(arr)):\n",
        "  total = total+arr[i];\n",
        "\n",
        "print(total)"
      ],
      "metadata": {
        "colab": {
          "base_uri": "https://localhost:8080/"
        },
        "id": "ezbtDVmH_WwF",
        "outputId": "58c83def-34cd-48ed-b91c-43f0ed668a75"
      },
      "execution_count": 32,
      "outputs": [
        {
          "output_type": "stream",
          "name": "stdout",
          "text": [
            "35\n"
          ]
        }
      ]
    },
    {
      "cell_type": "code",
      "source": [
        "#DIVIDE AND CONQUER\n",
        "#MAXIMUM\n",
        "def divideAndConquer_Max(arr, ind, len):\n",
        "  maximum = -1;\n",
        "\n",
        "  if (ind >= len - 2):\n",
        "    if (arr[ind] > arr[ind + 1]):\n",
        "      return arr[ind];\n",
        "    else:\n",
        "      return arr[ind+1];\n",
        "\n",
        "  maximum = divideAndConquer_Max(arr, ind + 1, len);\n",
        "\n",
        "  if (arr[ind] > maximum):\n",
        "    return arr[ind];\n",
        "  else :\n",
        "    return maximum;"
      ],
      "metadata": {
        "id": "qXy9cU2K_w4i"
      },
      "execution_count": 33,
      "outputs": []
    },
    {
      "cell_type": "code",
      "source": [
        "#MINIMUM\n",
        "def divideAndConcuer_Min(arr, ind, len):\n",
        "    minimum = 0;\n",
        "    if (ind >= len - 2):\n",
        "        if (arr[ind] < arr[ind + 1]):\n",
        "            return arr[ind];\n",
        "        else:\n",
        "            return arr[ind + 1];\n",
        "    minimum = divideAndConcuer_Min(arr, ind + 1, len);\n",
        "\n",
        "    if (arr[ind] < minimum):\n",
        "        return arr[ind];\n",
        "    else:\n",
        "      return minimum;\n",
        "\n",
        "\n"
      ],
      "metadata": {
        "id": "PFwCpWcFBYBz"
      },
      "execution_count": 34,
      "outputs": []
    },
    {
      "cell_type": "code",
      "source": [
        "if __name__ == '__main__':\n",
        "    minimum, maximum = 0, -1;\n",
        "\n",
        "    #array initialization\n",
        "    arr = [4,12,23,9,21,1,35,2,24];\n",
        "\n",
        "    maximum = divideAndConquer_Max(arr, 0, 9);\n",
        "    minimum = divideAndConcuer_Min(arr, 0, 9);\n",
        "\n",
        "    print(\"The minimum number in the array is: \", minimum);\n",
        "    print(\"The maximum number in the array is : \", maximum);"
      ],
      "metadata": {
        "colab": {
          "base_uri": "https://localhost:8080/"
        },
        "id": "SrXsd1juCRmu",
        "outputId": "79b40371-cd1e-479b-efdf-a7a97a205165"
      },
      "execution_count": 35,
      "outputs": [
        {
          "output_type": "stream",
          "name": "stdout",
          "text": [
            "The minimum number in the array is:  1\n",
            "The maximum number in the array is :  35\n"
          ]
        }
      ]
    },
    {
      "cell_type": "markdown",
      "source": [
        "**PENGURUTAN**\n",
        ">dua pendekatan :\n",
        "- Easy Split/Hard Join:\n",
        "  1. Merge-Sort\n",
        "  2. Insertion-Sort\n",
        "-Hard Split/Easy Join:\n",
        "  1. Quick-Sort\n",
        "  2. Selection-Sort\n",
        "\n"
      ],
      "metadata": {
        "id": "WzuMXs26HStb"
      }
    },
    {
      "cell_type": "code",
      "source": [
        "#Merge-Sort\n",
        "def mergeSort(array):\n",
        "  if len(array) > 1:\n",
        "\n",
        "    # r is the point where the array is divided into two subarrays\n",
        "    r = len(array)//2\n",
        "    L = array[:r]\n",
        "    M = array[r:]\n",
        "\n",
        "    # Sort the two halves\n",
        "    mergeSort(L)\n",
        "    mergeSort(M)\n",
        "\n",
        "    i = j = k = 0\n",
        "\n",
        "    # Until we reach either end of either L or M, pick larger among\n",
        "    # Elements L and M and place them in the correct position at A[p..r]\n",
        "    while i < len(L) and j < len(M):\n",
        "        if L[i] < M[j]:\n",
        "            array[k] = L[i]\n",
        "            i += 1\n",
        "        else:\n",
        "            array[k] = M[j]\n",
        "            j += 1\n",
        "        k += 1\n",
        "\n",
        "    # When we run out of elements in either L or M,\n",
        "    # Pick up the remaining elements and put in A[p..r]\n",
        "    while i < len(L):\n",
        "        array[k] = L[i]\n",
        "        i += 1\n",
        "        k +=1\n",
        "\n",
        "    while j < len(M):\n",
        "        array[k] = M[j]\n",
        "        j += 1\n",
        "        k += 1\n",
        "\n",
        "# Print the array\n",
        "def printList(array):\n",
        "    for i in range(len(array)):\n",
        "        print(array[i], end=\" \")\n",
        "    print()\n",
        "\n",
        "# Driver program\n",
        "if __name__ == '__main__':\n",
        "    array = [4,12,23,9,21,1,35,2,24]\n",
        "\n",
        "    mergeSort(array)\n",
        "\n",
        "    print(\"Sorted array is: \")\n",
        "    printList(array)\n",
        "\n"
      ],
      "metadata": {
        "colab": {
          "base_uri": "https://localhost:8080/"
        },
        "id": "HEaJnU8CIUEK",
        "outputId": "f86a0155-9968-4368-bac2-ebfb4c67c7de"
      },
      "execution_count": 36,
      "outputs": [
        {
          "output_type": "stream",
          "name": "stdout",
          "text": [
            "Sorted array is: \n",
            "1 2 4 9 12 21 23 24 35 \n"
          ]
        }
      ]
    },
    {
      "cell_type": "code",
      "source": [
        "#QUICK-SORT\n",
        "# Fuction to find the partition position\n",
        "def partition(array, low, high):\n",
        "\n",
        "    #choose the rightmost element as pivot\n",
        "    pivot = array[high]\n",
        "\n",
        "    #pointer for greater element\n",
        "    i = low - 1\n",
        "\n",
        "    #traverse through all element\n",
        "    #compare each element with pivot\n",
        "    for j in range (low, high):\n",
        "        if array[j] <= pivot:\n",
        "\n",
        "            #if element smaller than pivot is found\n",
        "            #Swapping element at i with element at j\n",
        "            i = i + 1\n",
        "\n",
        "            #Swapping element at i with element at j\n",
        "            (array[i], array[j]) = (array[j], array[i])\n",
        "\n",
        "    #Swap the pivot element with the grater element specified by i\n",
        "    (array[i + 1], array[high]) = (array[high], array[i + 1])\n",
        "\n",
        "    # Return the position from where partition is done\n",
        "    return i + 1\n",
        "\n",
        "# Function to perform quicksort\n",
        "def quickSort(array, low, high):\n",
        "    if low < high:\n",
        "\n",
        "        # Find pivot element such that\n",
        "        # Element smaller than pivot are on the left\n",
        "        # Element smaller than pivot are on the right\n",
        "        pi = partition(array, low, high)\n",
        "\n",
        "        # Recursive call on the left of pivot\n",
        "        quickSort(array, low, pi - 1)\n",
        "\n",
        "        # Recursive call on the right of pivot\n",
        "        quickSort(array, pi + 1, high)\n",
        "\n",
        "data = [4,12,23,9,21,1,35,2,24]\n",
        "print(\"Unsorted Array\")\n",
        "print(data)\n",
        "\n",
        "size = len(data)\n",
        "\n",
        "quickSort(data, 0, size - 1)\n",
        "\n",
        "print('Sorted Array in Ascending Order:')\n",
        "print(data)\n"
      ],
      "metadata": {
        "colab": {
          "base_uri": "https://localhost:8080/"
        },
        "id": "RlFB_4s7TmPK",
        "outputId": "1ffcd5cc-773b-4362-df4e-5eb908d84009"
      },
      "execution_count": 37,
      "outputs": [
        {
          "output_type": "stream",
          "name": "stdout",
          "text": [
            "Unsorted Array\n",
            "[4, 12, 23, 9, 21, 1, 35, 2, 24]\n",
            "Sorted Array in Ascending Order:\n",
            "[1, 2, 4, 9, 12, 21, 23, 24, 35]\n"
          ]
        }
      ]
    },
    {
      "cell_type": "code",
      "source": [
        "#Implementasi Algoritma\n",
        "#Maximum Subarray Sum : mencari hasil penjumlahan terbesar dari array uang isinya nilai negatif & positif\n",
        "#misal suatu array {-2,-5,6,-2,-3,1,5,-6}, maka penjumlahan terbesar disusun dari {6,-2,-3,1,5}=7\n",
        "\n",
        "#Tanpa divide dan conquer\n",
        "def maxSubSum(arr):\n",
        "    max_so_far=0\n",
        "    max_ending_here=0\n",
        "    for i in range(len(arr)):\n",
        "        max_ending_here+=arr[i]\n",
        "        if max_ending_here>max_so_far:\n",
        "            max_so_far=max_ending_here\n",
        "        if max_ending_here<0:\n",
        "            max_ending_here=0\n",
        "    return max_so_far\n",
        "\n",
        "arr=[-2, -5, 6, -2, -3, 1, 5, -6]\n",
        "result=maxSubSum(arr)\n",
        "print(result)"
      ],
      "metadata": {
        "colab": {
          "base_uri": "https://localhost:8080/"
        },
        "id": "iX3YmOQFbGSA",
        "outputId": "e42b4076-d43d-4c20-de70-e356ee9cc00b"
      },
      "execution_count": 38,
      "outputs": [
        {
          "output_type": "stream",
          "name": "stdout",
          "text": [
            "7\n"
          ]
        }
      ]
    },
    {
      "cell_type": "code",
      "source": [
        "#Implementasi Algoritma\n",
        "# Maximum Subarray Sum :mencari hasil penjumlahan terbesar dari array uang isinya nilai negatif & positif\n",
        "#misal suatu array {-2,-5,6,-2,-3,1,5,-6}, maka penjumlahan terbesar disusun dari {6,-2,-3,1,5}=7\n",
        "\n",
        "# Menggunakan divide dan conquer\n",
        "def maxCrossingSum(arr,low,mid,high):\n",
        "    result=0; leftSum=float('-infinity')\n",
        "    for i in range(mid,low-1,-1):\n",
        "        result+=arr[i]\n",
        "        if result>leftSum:\n",
        "            leftSum=result\n",
        "    result=0; rightSum=float('-infinity')\n",
        "    for i in range(mid+1,high+1):\n",
        "        result+=arr[i]\n",
        "        if result>rightSum:\n",
        "            rightSum=result\n",
        "    return leftSum+rightSum\n",
        "\n",
        "def maxSum(arr,low,high):\n",
        "    if low==high:\n",
        "        return arr[low]\n",
        "    mid=(low+high)//2\n",
        "    return max(maxSum(arr,low,mid), maxSum(arr,mid+1,high), maxCrossingSum(arr,low,mid,high))\n",
        "\n",
        "arr=[-2, -5, 6, -2, -3, 1, 5, -6]\n",
        "result=maxSum(arr,0,len(arr)-1)\n",
        "print(result)"
      ],
      "metadata": {
        "colab": {
          "base_uri": "https://localhost:8080/"
        },
        "id": "H2kruwJScYoS",
        "outputId": "2d90e826-e73d-45a0-c2a0-1321875e7fb1"
      },
      "execution_count": 39,
      "outputs": [
        {
          "output_type": "stream",
          "name": "stdout",
          "text": [
            "7\n"
          ]
        }
      ]
    },
    {
      "cell_type": "code",
      "source": [
        "# Implementasi Algoritma\n",
        "# Longest Common Prefix : mencari potongan suku kata (prefix) yang sama dan tepanjang\n",
        "def longestCommonPrefix(a):\n",
        "\n",
        "    size = len(a)\n",
        "\n",
        "    # if size is 0, return empty string\n",
        "    if (size == 0):\n",
        "        return \"\"\n",
        "\n",
        "    if (size == 1):\n",
        "        return a[0]\n",
        "\n",
        "    # sort the array of strings\n",
        "    a.sort()\n",
        "\n",
        "    # find the minimum length from\n",
        "    # first and last string\n",
        "    end = min(len(a[0]), len(a[size - 1]))\n",
        "\n",
        "    # find the common prefix between\n",
        "    # the first and last string\n",
        "    i = 0\n",
        "    while (i < end and\n",
        "           a [0][i] == a [size - 1][i]):\n",
        "        i += 1\n",
        "\n",
        "    pre = a[0][0: i]\n",
        "    return pre"
      ],
      "metadata": {
        "id": "QmSe8ETneZlz"
      },
      "execution_count": 40,
      "outputs": []
    },
    {
      "cell_type": "code",
      "source": [
        "arr=[\"geeksforgeeks\",\"geeks\", \"geezer\"]\n",
        "result=longestCommonPrefix(arr)\n",
        "print(result)"
      ],
      "metadata": {
        "colab": {
          "base_uri": "https://localhost:8080/"
        },
        "id": "YqOt-0Wxf0bE",
        "outputId": "aee3d2c9-fe0e-470a-dcb5-f2b0c5f4f394"
      },
      "execution_count": 41,
      "outputs": [
        {
          "output_type": "stream",
          "name": "stdout",
          "text": [
            "gee\n"
          ]
        }
      ]
    },
    {
      "cell_type": "code",
      "source": [
        "arr=[\"apple\",\"ape\",\"april\"]\n",
        "result=longestCommonPrefix(arr)\n",
        "print(result)"
      ],
      "metadata": {
        "colab": {
          "base_uri": "https://localhost:8080/"
        },
        "id": "Yq1ctd8agHJQ",
        "outputId": "f1d177ce-10ad-4e8a-82f1-0e27f47b4d0f"
      },
      "execution_count": 42,
      "outputs": [
        {
          "output_type": "stream",
          "name": "stdout",
          "text": [
            "ap\n"
          ]
        }
      ]
    },
    {
      "cell_type": "code",
      "source": [
        "#tes sendiri\n",
        "arr=[\"menggunakan\",\"memanggil\",\"memakan\"]\n",
        "result=longestCommonPrefix(arr)\n",
        "print(result)"
      ],
      "metadata": {
        "colab": {
          "base_uri": "https://localhost:8080/"
        },
        "id": "naqf1pEAgWP0",
        "outputId": "1abbdf64-840f-4b0b-97c6-aa0a3f6e139a"
      },
      "execution_count": 44,
      "outputs": [
        {
          "output_type": "stream",
          "name": "stdout",
          "text": [
            "me\n"
          ]
        }
      ]
    },
    {
      "cell_type": "code",
      "source": [
        "# Implementasi Algoritma\n",
        "# Median dua array urut sama ukuran\n",
        "# Mencari nilai tengah dari dua array yang berurutan nilainya, dan ukurannya sama\n",
        "\n",
        "# Median dari dua array dengan divide dan conquer\n",
        "def medianOfArray(arr1,arr2,n):\n",
        "    m1=-1 #first Number\n",
        "    m2=-1 #second Number\n",
        "    count=0\n",
        "    i=j=0\n",
        "    while count<n+1:\n",
        "        count+=1\n",
        "        if i==n: #i==5 index error if arr1[i]<arr2[j] is checked\n",
        "            m1=m2\n",
        "            m2=arr2[0]\n",
        "            break\n",
        "        if j==n:\n",
        "            m1=m2\n",
        "            m2=arr1[i]\n",
        "            i+=1\n",
        "        if arr1[i]<arr2[j]:\n",
        "            m1=m2\n",
        "            m2=arr1[i]\n",
        "            i+=1\n",
        "        else:\n",
        "            m1=m2\n",
        "            m2=arr2[j]\n",
        "            j+=1\n",
        "    return(m1+m2)//2\n",
        "\n",
        "arr1=[1, 12, 15, 26, 38]\n",
        "arr2=[2, 13, 17, 30, 45]\n",
        "\n",
        "print(medianOfArray(arr1,arr2,len(arr1)))"
      ],
      "metadata": {
        "colab": {
          "base_uri": "https://localhost:8080/"
        },
        "id": "HNrXA2MXh2eW",
        "outputId": "a300f901-e60e-4320-d7a7-a63c45aabfa2"
      },
      "execution_count": 45,
      "outputs": [
        {
          "output_type": "stream",
          "name": "stdout",
          "text": [
            "16\n"
          ]
        }
      ]
    },
    {
      "cell_type": "code",
      "source": [
        "# Implemenatasi Algoritma\n",
        "# Median dua array urut berbeda ukuran\n",
        "# mencari nilai tengah array yang beruturan, namun ukurannya berbeda\n",
        "\n",
        "def Solution(arr):\n",
        "    n = len(arr)\n",
        "    # if length of array is even\n",
        "    if n % 2 == 0:\n",
        "        z = n // 2\n",
        "        e = arr[z]\n",
        "        q = arr[z - 1]\n",
        "        ans = (e + q) / 2\n",
        "        return ans\n",
        "    # if length of array is odd\n",
        "    else:\n",
        "        z = n // 2\n",
        "        ans = arr[z]\n",
        "        return ans\n",
        "\n",
        "arr1 = [-5, 3, 6, 12, 15]\n",
        "arr2 = [-12, -10, -6, -3, 4, 10]\n",
        "#concatenating the two arrays\n",
        "arr3 = arr1 + arr2\n",
        "# sorting the resultant array\n",
        "arr3.sort()\n",
        "print(\"Median = \", Solution(arr3))"
      ],
      "metadata": {
        "colab": {
          "base_uri": "https://localhost:8080/"
        },
        "id": "wqZzIRAVkZvd",
        "outputId": "779bce25-21cb-40c9-93db-b5b35b6bf5d2"
      },
      "execution_count": 46,
      "outputs": [
        {
          "output_type": "stream",
          "name": "stdout",
          "text": [
            "Median =  3\n"
          ]
        }
      ]
    },
    {
      "cell_type": "code",
      "source": [
        "# Implementasi Algoritma\n",
        "# mencari element terbesar dari array dan lebih kecil dari angka\n",
        "\n",
        "# Floor in sorted array\n",
        "def floorSorted(arr,low,high,x):\n",
        "    #print(low,high)\n",
        "    if low>high:\n",
        "        return -1\n",
        "\n",
        "    if arr[low]>x:\n",
        "        #print(\"inside\")\n",
        "        returnn -1\n",
        "\n",
        "    if arr[high]<=x:\n",
        "        return arr[high]\n",
        "\n",
        "    mid=(low+high)//2\n",
        "\n",
        "    if arr[mid]==x:\n",
        "        return arr[mid]\n",
        "\n",
        "    if mid>0 and x>=arr[mid-1] and arr[mid]>x:\n",
        "        return arr[mid-1]\n",
        "\n",
        "    if mid<high and x<arr[mid+1] and x>=arr[mid]:\n",
        "        return arr[mid]\n",
        "\n",
        "    if x>arr[mid]:\n",
        "        return floorSorted(arr,mid+1,high,x)\n",
        "    else:\n",
        "        return floorSorted(arr,low,mid-1,x)\n",
        "\n",
        "arr=[1,2,8,10,12,14,19]\n",
        "x=5\n",
        "print(floorSorted(arr,0,len(arr)-1,x))"
      ],
      "metadata": {
        "id": "-FN5oUbDmV5_",
        "colab": {
          "base_uri": "https://localhost:8080/"
        },
        "outputId": "75a0a6ad-b2d0-4a87-e3cf-c715d9130f6c"
      },
      "execution_count": 1,
      "outputs": [
        {
          "output_type": "stream",
          "name": "stdout",
          "text": [
            "2\n"
          ]
        }
      ]
    },
    {
      "cell_type": "code",
      "source": [
        "# Implementasi Algoritma\n",
        "# Nilai terdekat : mencari nilai terdekat suatu angka dalam suatu array\n",
        "\n",
        "# mencari nilai terdekat dengan metode divide dan conquer\n",
        "\n",
        "def closestnumber(arr,low,high,x):\n",
        "  if low > high :\n",
        "    return -1\n",
        "  if arr[high]<=x:\n",
        "    return arr [high]\n",
        "  if arr[low]>=x:\n",
        "    return arr[low]\n",
        "  mid = (low + high)//2\n",
        "  if arr[mid]==x:\n",
        "    return arr[mid]\n",
        "  abs_mid=abs(arr[mid]-x)\n",
        "\n",
        "  if mid > 0 :\n",
        "    abs_left = abs(arr[mid-1]-x)\n",
        "    if abs_left < abs_mid:\n",
        "      return closestnumber(arr,low,high,x)\n",
        "\n",
        "  if mid < high :\n",
        "    abs_right = abs(arr[mid+1]-x)\n",
        "    if abs_right < abs_mid :\n",
        "      return closestnumber(arr,mid+1,high,x)\n",
        "\n",
        "  return arr[mid]\n",
        "\n",
        "arr=[2,5,6,7,8,8,9]\n",
        "x = 9\n",
        "print (closestnumber(arr,0,len(arr)-1,x))"
      ],
      "metadata": {
        "colab": {
          "base_uri": "https://localhost:8080/"
        },
        "id": "PdPkFMWuhyiS",
        "outputId": "6294c4e7-f69d-48ca-f6ec-73e06024900b"
      },
      "execution_count": 29,
      "outputs": [
        {
          "output_type": "stream",
          "name": "stdout",
          "text": [
            "9\n"
          ]
        }
      ]
    },
    {
      "cell_type": "code",
      "source": [
        "# Implementasi Algoritma\n",
        "# Nilai terdekat : mencari nilai terdekat suatu angka dalam suatu array\n",
        "def find_closest(lst,k):\n",
        "  lst.sort()\n",
        "  closest_num = lst[0]\n",
        "  for num in lst:\n",
        "    if abs(num-k)< abs(closest_num - k):\n",
        "      closest_num = num\n",
        "    if num > k:\n",
        "      break\n",
        "  return closest_num\n",
        "\n",
        "lst = [3.64,5.2,9.42,9.35,8.5,8]\n",
        "k = 9.1\n",
        "print(find_closest(lst,k))"
      ],
      "metadata": {
        "colab": {
          "base_uri": "https://localhost:8080/"
        },
        "id": "JcmKkt50sY2k",
        "outputId": "d4386cef-52f8-48f6-8e9b-343955528c2e"
      },
      "execution_count": 27,
      "outputs": [
        {
          "output_type": "stream",
          "name": "stdout",
          "text": [
            "9.35\n"
          ]
        }
      ]
    },
    {
      "cell_type": "code",
      "source": [
        "lst = [2,5,5,7,8,8,9]\n",
        "k = 6\n",
        "print(find_closest(lst,k))"
      ],
      "metadata": {
        "colab": {
          "base_uri": "https://localhost:8080/"
        },
        "id": "1vvzGzI8uNlR",
        "outputId": "7289b311-38b6-4b2b-e78c-e9581bd55987"
      },
      "execution_count": 28,
      "outputs": [
        {
          "output_type": "stream",
          "name": "stdout",
          "text": [
            "5\n"
          ]
        }
      ]
    },
    {
      "cell_type": "code",
      "source": [
        "# Implementasi Algoritma\n",
        "# Fixed Point\n",
        "#mencari nilai fixed point, yaitu suatu bilangan dalam array yang nilainya sama dengan urutannya dalam array\n",
        "#array dimulai dari 0. Jika tidak ada yang sama, hasil akan bernilai -1\n",
        "\n",
        "#mencari Fixed Point dengan metode divide dan conquer\n",
        "\n",
        "def fixedPoint(arr,low,high):\n",
        "    if low>high:\n",
        "        return -1\n",
        "    if arr[high]==high:\n",
        "        return arr[high]\n",
        "    if arr[low]==low:\n",
        "        return arr[low]\n",
        "    mid=(low+high)//2\n",
        "    if arr[mid]==mid:\n",
        "        return arr[mid]\n",
        "    if mid>arr[mid]:\n",
        "        return fixedPoint(arr,mid+1,high)\n",
        "    else:\n",
        "        return fixedPoint(arr,low,mid-1)\n",
        "\n",
        "arr=[9,1,4,5,2]\n",
        "print(fixedPoint(arr,0,len(arr)-1))"
      ],
      "metadata": {
        "colab": {
          "base_uri": "https://localhost:8080/"
        },
        "id": "GEDO-HkXuzQG",
        "outputId": "86920027-94f7-41d3-a900-d7dec0c91485"
      },
      "execution_count": 26,
      "outputs": [
        {
          "output_type": "stream",
          "name": "stdout",
          "text": [
            "1\n"
          ]
        }
      ]
    }
  ]
}