{
  "nbformat": 4,
  "nbformat_minor": 0,
  "metadata": {
    "colab": {
      "provenance": [],
      "authorship_tag": "ABX9TyPjQ/41Nlbpx6CHRkx/o5NO",
      "include_colab_link": true
    },
    "kernelspec": {
      "name": "python3",
      "display_name": "Python 3"
    },
    "language_info": {
      "name": "python"
    }
  },
  "cells": [
    {
      "cell_type": "markdown",
      "metadata": {
        "id": "view-in-github",
        "colab_type": "text"
      },
      "source": [
        "<a href=\"https://colab.research.google.com/github/ArelliaAgustin/Desain-dan-Analisis-Algoritma/blob/main/volume_kerucut.ipynb\" target=\"_parent\"><img src=\"https://colab.research.google.com/assets/colab-badge.svg\" alt=\"Open In Colab\"/></a>"
      ]
    },
    {
      "cell_type": "code",
      "execution_count": 4,
      "metadata": {
        "colab": {
          "base_uri": "https://localhost:8080/"
        },
        "id": "9cBm74aTm8Q9",
        "outputId": "8fb68bc6-f812-4019-d183-e2faaa9a4a77"
      },
      "outputs": [
        {
          "output_type": "stream",
          "name": "stdout",
          "text": [
            "volume kerucut adalah 26.166666666666668\n"
          ]
        }
      ],
      "source": [
        "diameter = 5\n",
        "phi = 3.14\n",
        "tinggi = 4\n",
        "\n",
        "jarijari = diameter*1/2\n",
        "\n",
        "volume = 1/3*phi*jarijari*jarijari*tinggi\n",
        "\n",
        "print(\"volume kerucut adalah\", volume)"
      ]
    }
  ]
}