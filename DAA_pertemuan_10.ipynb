{
  "nbformat": 4,
  "nbformat_minor": 0,
  "metadata": {
    "colab": {
      "provenance": [],
      "authorship_tag": "ABX9TyOFk3W4e9vQ0rO9+yM4KN8v",
      "include_colab_link": true
    },
    "kernelspec": {
      "name": "python3",
      "display_name": "Python 3"
    },
    "language_info": {
      "name": "python"
    }
  },
  "cells": [
    {
      "cell_type": "markdown",
      "metadata": {
        "id": "view-in-github",
        "colab_type": "text"
      },
      "source": [
        "<a href=\"https://colab.research.google.com/github/ArelliaAgustin/Desain-dan-Analisis-Algoritma/blob/main/DAA_pertemuan_10.ipynb\" target=\"_parent\"><img src=\"https://colab.research.google.com/assets/colab-badge.svg\" alt=\"Open In Colab\"/></a>"
      ]
    },
    {
      "cell_type": "markdown",
      "source": [
        "tahapan tahapan yang harus dilakukan\n",
        "1. pahami kasusnya atau permasalahannya yang dicari (mencari keuntungan terbesar)\n",
        "2. membuat persamaan linear contoh 3a+2b\n",
        "3. batasan bahwa untuk memproduksi robot a dan robot b\n",
        "4. tuang kedalam algoritma\n",
        "5. memakai library pulp dan di import librarynya\n",
        "\n",
        "untuk membuat hasil maksimal maka dibuat robot a=6 dan b=1\n"
      ],
      "metadata": {
        "id": "UkLsXximVwGn"
      }
    },
    {
      "cell_type": "code",
      "execution_count": 16,
      "metadata": {
        "colab": {
          "base_uri": "https://localhost:8080/"
        },
        "id": "FGZm3g-jUEwH",
        "outputId": "33370da2-409b-4013-c7a0-37e1e3e88143"
      },
      "outputs": [
        {
          "output_type": "stream",
          "name": "stdout",
          "text": [
            "Requirement already satisfied: pulp in /usr/local/lib/python3.10/dist-packages (2.7.0)\n"
          ]
        }
      ],
      "source": [
        "pip install pulp"
      ]
    },
    {
      "cell_type": "code",
      "source": [
        "import pulp"
      ],
      "metadata": {
        "id": "vgDl_1dDUPPI"
      },
      "execution_count": 17,
      "outputs": []
    },
    {
      "cell_type": "code",
      "source": [
        "#instantiate our problem class\n",
        "#mencari nilai maksimal\n",
        "model = pulp.LpProblem(\"ProfitMaximisingProblem\", pulp.LpMaximize)"
      ],
      "metadata": {
        "id": "w1IrhFzLUTTe"
      },
      "execution_count": 19,
      "outputs": []
    },
    {
      "cell_type": "code",
      "source": [
        "A = pulp.LpVariable('A', lowBound=0, cat='Integer')\n",
        "B = pulp.LpVariable('B', lowBound=0, cat='Integer')"
      ],
      "metadata": {
        "id": "FddZMuCRUydg"
      },
      "execution_count": 20,
      "outputs": []
    },
    {
      "cell_type": "code",
      "source": [
        "#Objective function\n",
        "model += 4200 * A + 2800 * B, \"Profit\"\n",
        "\n",
        "#contrains\n",
        "model += 3 * A + 2 * B <= 20\n",
        "model += 4 * A + 3 * B <= 30\n",
        "model += 4 * A + 3 * B <= 44"
      ],
      "metadata": {
        "id": "mdcA8K7dVKyt"
      },
      "execution_count": 21,
      "outputs": []
    },
    {
      "cell_type": "code",
      "source": [
        "#Solve out problem\n",
        "model.solve()\n",
        "pulp.LpStatus[model.status]"
      ],
      "metadata": {
        "colab": {
          "base_uri": "https://localhost:8080/",
          "height": 36
        },
        "id": "-DuiHN21ZP8-",
        "outputId": "91ba5a2f-e9cd-4ea2-9253-7e9e83385c5c"
      },
      "execution_count": 22,
      "outputs": [
        {
          "output_type": "execute_result",
          "data": {
            "text/plain": [
              "'Optimal'"
            ],
            "application/vnd.google.colaboratory.intrinsic+json": {
              "type": "string"
            }
          },
          "metadata": {},
          "execution_count": 22
        }
      ]
    },
    {
      "cell_type": "code",
      "source": [
        "#print our decision variable values\n",
        "print (\"robot A: \", A.varValue) #robot a\n",
        "print (\"robot B: \", B.varValue) #robot b"
      ],
      "metadata": {
        "colab": {
          "base_uri": "https://localhost:8080/"
        },
        "id": "MFb2sLpzZthh",
        "outputId": "2b5c37bb-8a00-4864-81f1-1dee9edec46a"
      },
      "execution_count": 27,
      "outputs": [
        {
          "output_type": "stream",
          "name": "stdout",
          "text": [
            "robot A:  6.0\n",
            "robot B:  1.0\n"
          ]
        }
      ]
    },
    {
      "cell_type": "code",
      "source": [
        "#print our objective function value\n",
        "print (pulp.value(model.objective))"
      ],
      "metadata": {
        "colab": {
          "base_uri": "https://localhost:8080/"
        },
        "id": "yn8hr-9oZ3uA",
        "outputId": "bb45032f-1920-4da4-ae73-b6c78c5d206d"
      },
      "execution_count": 24,
      "outputs": [
        {
          "output_type": "stream",
          "name": "stdout",
          "text": [
            "28000.0\n"
          ]
        }
      ]
    },
    {
      "cell_type": "code",
      "source": [
        "#___________________________________LATIHAN NOMOR 1____________________________________\n",
        "# 4x + 3y = 34\n",
        "\n",
        "import pulp\n",
        "mod1 = pulp.LpProblem(name =\"Pemecahan_Persamaan\", sense=pulp.LpMinimize)\n",
        "\n",
        "x = pulp.LpVariable(name=\"x\")\n",
        "y = pulp.LpVariable(name=\"y\")\n",
        "\n",
        "mod1 += 4 * x + 3 * y == 34\n",
        "\n",
        "mod1.solve()\n",
        "\n",
        "print(\"Status : \", mod1.status)\n",
        "print(\"Nilai x = \", x.varValue)\n",
        "print(\"Nilai y = \", y.varValue)"
      ],
      "metadata": {
        "colab": {
          "base_uri": "https://localhost:8080/"
        },
        "id": "MIhcskE-bGR_",
        "outputId": "315a75b6-21b6-4fb7-d092-71b1bbb9cd72"
      },
      "execution_count": 32,
      "outputs": [
        {
          "output_type": "stream",
          "name": "stdout",
          "text": [
            "Status :  1\n",
            "Nilai x =  8.5\n",
            "Nilai y =  0.0\n"
          ]
        }
      ]
    },
    {
      "cell_type": "code",
      "source": [
        "#___________________________________LATIHAN NOMOR 2____________________________________\n",
        "# 5x + y = 37\n",
        "\n",
        "import pulp\n",
        "mod2 = pulp.LpProblem(name =\"Pemecahan_Persamaan\", sense=pulp.LpMinimize)\n",
        "\n",
        "x = pulp.LpVariable(name=\"x\")\n",
        "y = pulp.LpVariable(name=\"y\")\n",
        "\n",
        "mod2 += 5 * x + 1 * y == 37\n",
        "\n",
        "mod2.solve()\n",
        "\n",
        "print(\"Status : \", mod2.status)\n",
        "print(\"Nilai x = \", x.varValue)\n",
        "print(\"Nilai y = \", y.varValue)"
      ],
      "metadata": {
        "colab": {
          "base_uri": "https://localhost:8080/"
        },
        "id": "n0OpbcMneQ4e",
        "outputId": "b3a7c336-6c48-4d7b-c634-df0ee0e628a8"
      },
      "execution_count": 33,
      "outputs": [
        {
          "output_type": "stream",
          "name": "stdout",
          "text": [
            "Status :  1\n",
            "Nilai x =  7.4\n",
            "Nilai y =  0.0\n"
          ]
        }
      ]
    },
    {
      "cell_type": "code",
      "source": [
        "#__________________________LATIHAN SOAL CERITA 1_________________________________________\n",
        "import pulp\n",
        "\n",
        "# Instantiate our problem class\n",
        "modelCerita = pulp.LpProblem(\"HargaBeliBarang\", pulp.LpMinimize)\n",
        "\n",
        "# Define the decision variables\n",
        "P = pulp.LpVariable('P', lowBound=0, cat='Integer')\n",
        "B = pulp.LpVariable('B', lowBound=0, cat='Integer')\n",
        "\n",
        "# Define the objective function\n",
        "modelCerita += 2 * P + 6 * B, \"TotalHarga\"\n",
        "\n",
        "# Define the constraints based on the given purchase scenarios\n",
        "modelCerita += 3 * P + 4 * B == 11000  # Pembelian pertama\n",
        "modelCerita += 1 * P + 7 * B == 15000    # Pembelian kedua\n",
        "\n",
        "# Solve the problem\n",
        "modelCerita.solve()\n",
        "status = pulp.LpStatus[modelCerita.status]\n",
        "\n",
        "if status == \"Optimal\":\n",
        "    harga_pensil = P.varValue\n",
        "    harga_buku = B.varValue\n",
        "    print(f\"Harga dua buah pensil: {harga_pensil} Rupiah\")\n",
        "    print(f\"Harga enam buah buku: {harga_buku} Rupiah\")\n",
        "else:\n",
        "    print(\"Tidak ada solusi optimal yang ditemukan.\")"
      ],
      "metadata": {
        "colab": {
          "base_uri": "https://localhost:8080/"
        },
        "id": "EKzPoyxse-LN",
        "outputId": "9cfa99ec-ede5-4eda-cfd3-42b6b26b4e1c"
      },
      "execution_count": 51,
      "outputs": [
        {
          "output_type": "stream",
          "name": "stdout",
          "text": [
            "Harga dua buah pensil: 1000.0 Rupiah\n",
            "Harga enam buah buku: 2000.0 Rupiah\n"
          ]
        }
      ]
    },
    {
      "cell_type": "code",
      "source": [
        "#__________________________LATIHAN SOAL CERITA 2________________________________\n",
        "import pulp\n",
        "\n",
        "# Membuat model linear programming\n",
        "model = pulp.LpProblem(name=\"PersegiPanjang\", sense=pulp.LpMinimize)\n",
        "\n",
        "# Variabel keputusan\n",
        "panjang = pulp.LpVariable(\"Panjang\", lowBound=0)  # Panjang persegi panjang\n",
        "lebar = pulp.LpVariable(\"Lebar\", lowBound=0)  # Lebar persegi panjang\n",
        "\n",
        "# Fungsi tujuan (minimalkan panjang + 2 * lebar)\n",
        "model += panjang + 2 * lebar, \"Keliling\"\n",
        "\n",
        "# Persamaan kendala (keliling = 44 cm, lebar = panjang - 6)\n",
        "model += 2 * (panjang + lebar) == 44, \"KelilingConstraint\"\n",
        "model += lebar == panjang - 6, \"LebarConstraint\"\n",
        "\n",
        "# Menyelesaikan masalah linear programming\n",
        "model.solve()\n",
        "\n",
        "# Mendapatkan solusi optimal\n",
        "optimal_panjang = panjang.value()\n",
        "optimal_lebar = lebar.value()\n",
        "\n",
        "# Menampilkan hasil\n",
        "print(f\"Panjang optimal : {optimal_panjang} cm\")\n",
        "print(f\"Lebar optimal : {optimal_lebar} cm\")\n"
      ],
      "metadata": {
        "colab": {
          "base_uri": "https://localhost:8080/"
        },
        "id": "z_yb5ifEl3eP",
        "outputId": "ce9fb4eb-da78-44e7-af19-61d9a640cf58"
      },
      "execution_count": 55,
      "outputs": [
        {
          "output_type": "stream",
          "name": "stdout",
          "text": [
            "Panjang optimal : 14.0 cm\n",
            "Lebar optimal : 8.0 cm\n"
          ]
        }
      ]
    },
    {
      "cell_type": "code",
      "source": [
        "#Aplikasi Linear Programming\n",
        "\n",
        "#Import required libraries\n",
        "import numpy as np\n",
        "from scipy.optimize import linprog\n",
        "\n",
        "# Set the inequality constraints matrix\n",
        "# Note: the inequality contraints must be in the form of <=\n",
        "A = np.array ([[1,0], [2,3], [1,1], [-1,0], [0,-1]])\n",
        "\n",
        "# Set the inequality constraints vector\n",
        "b = np.array([16, 19, 8, 0, 0])\n",
        "\n",
        "# Set the coefficients of the linear objective function vector\n",
        "# Note: when maximizing, change\n",
        "C = np.array([-5, -7])\n",
        "\n",
        "#solve linear programming problem\n",
        "res = linprog(C, A_ub=A, b_ub=b)\n",
        "\n",
        "#print result\n",
        "print ('Optimal value: ', round(res.fun*-1,ndigits=2),\n",
        "       '\\nx values:', res.x,\n",
        "       '\\nNumber of iteration performed:', res.nit,\n",
        "       '\\nStatus:', res.message)"
      ],
      "metadata": {
        "colab": {
          "base_uri": "https://localhost:8080/"
        },
        "id": "BhKDS3COnaTQ",
        "outputId": "0a1c7d86-c4db-418b-d798-667f323413e5"
      },
      "execution_count": 50,
      "outputs": [
        {
          "output_type": "stream",
          "name": "stdout",
          "text": [
            "Optimal value:  46.0 \n",
            "x values: [5. 3.] \n",
            "Number of iteration performed: 3 \n",
            "Status: Optimization terminated successfully. (HiGHS Status 7: Optimal)\n"
          ]
        }
      ]
    },
    {
      "cell_type": "code",
      "source": [
        "# 1. Impor modul yang diperlukan dari Scipy:\n",
        "\n",
        "from scipy.optimize import linprog\n",
        "\n",
        "# 2. Tentukan koefisien fungsi tujuan dan matriks batasan:\n",
        "#koefisien fungsi tujuan (Z = 5x1 + 7x2)\n",
        "C = [-5, -7] #karena kita ingin \"maksimalkan\" -5x1 - 7x2, maka perlu diubah menjadi \"-5\" dan \"-7\"\n",
        "\n",
        "# Koefisien matriks batasan\n",
        "A = [\n",
        "    [1, 0], # 1x1 + 0x2 <= 16\n",
        "    [2, 3], # 2x1 + 3x2 <= 19\n",
        "    [1, 1], # 1x1 + 1x2 <= 8\n",
        "]\n",
        "\n",
        "# Batasan kanan (rhs) dari masing-masing batasan\n",
        "b = [16, 19, 8]\n",
        "\n",
        "# 3. Tentukan batasan variabel x1 dan x2 sebagai variabel non-negatif\n",
        "\n",
        "x1_bounds = (0, None) # x1 >= 0\n",
        "x2_bounds = (0, None) # x2 >= 0\n",
        "\n",
        "# 4. Gunakan linprog untuk menyelesaikan masalah pemrograman linier:\n",
        "\n",
        "result = linprog(C, A_ub=A, b_ub=b, bounds=[x1_bounds, x2_bounds], method=\"highs\")\n",
        "\n",
        "# 5. Tampilkan hasilnya:\n",
        "# Hasil optimasi\n",
        "print(\"Optimal Solution: \")\n",
        "print(\"x1 = \", result.x[0])\n",
        "print(\"x2 = \", result.x[1])\n",
        "print(\"Max Z = \", -result.fun)  #Karena tujuannya adalah memaksimalkan -Z"
      ],
      "metadata": {
        "colab": {
          "base_uri": "https://localhost:8080/"
        },
        "id": "HWz0T1oWwpWN",
        "outputId": "99783317-5e80-4856-acf4-28777148eef6"
      },
      "execution_count": 62,
      "outputs": [
        {
          "output_type": "stream",
          "name": "stdout",
          "text": [
            "Optimal Solution: \n",
            "x1 =  5.0\n",
            "x2 =  3.0\n",
            "Max Z =  46.0\n"
          ]
        }
      ]
    },
    {
      "cell_type": "code",
      "source": [
        "#___________________LATIHAN DENGA SCIPY soal nomor 1____________________________\n",
        "# soal 4x + 12y\n",
        "from scipy.optimize import linprog\n",
        "\n",
        "# Koefisien fungsi tujuan\n",
        "C = [0, 0]\n",
        "\n",
        "# Koefisien matriks batasan\n",
        "A = [\n",
        "    [4, 12]  # 4x + 12y = 28\n",
        "]\n",
        "\n",
        "# Batasan kanan (rhs) dari matriks batasan\n",
        "b = [28]\n",
        "\n",
        "# Batasan variabel x dan y sebagai variabel non-negatif\n",
        "x_bounds = (0, None)\n",
        "y_bounds = (0, None)\n",
        "\n",
        "# Gunakan linprog untuk menyelesaikan masalah pemrograman linier\n",
        "result = linprog(c=C, A_eq=A, b_eq=b, bounds=[x_bounds, y_bounds], method=\"highs\")\n",
        "\n",
        "# Tampilkan hasilnya\n",
        "print(\"Optimal Solution:\")\n",
        "print(\"x =\", result.x[0])\n",
        "print(\"y =\", result.x[1])\n"
      ],
      "metadata": {
        "colab": {
          "base_uri": "https://localhost:8080/"
        },
        "id": "-Okw2Na00aIv",
        "outputId": "fcdf73df-9015-4683-b1f8-088c0773f977"
      },
      "execution_count": 63,
      "outputs": [
        {
          "output_type": "stream",
          "name": "stdout",
          "text": [
            "Optimal Solution:\n",
            "x = 0.0\n",
            "y = 2.3333333333333335\n"
          ]
        }
      ]
    },
    {
      "cell_type": "code",
      "source": [
        "#___________________LATIHAN DENGA SCIPY soal nomor 2____________________________\n",
        "#soal 2x + y = 21\n",
        "from scipy.optimize import linprog\n",
        "\n",
        "# Koefisien fungsi tujuan\n",
        "C = [0, 0]\n",
        "\n",
        "# Koefisien matriks batasan\n",
        "A = [\n",
        "    [2, 1]  # 2x + y = 21\n",
        "]\n",
        "\n",
        "# Batasan kanan (rhs) dari matriks batasan\n",
        "b = [21]\n",
        "\n",
        "# Batasan variabel x dan y sebagai variabel non-negatif\n",
        "x_bounds = (0, None)\n",
        "y_bounds = (0, None)\n",
        "\n",
        "# Gunakan linprog untuk menyelesaikan masalah pemrograman linier\n",
        "result = linprog(c=C, A_eq=A, b_eq=b, bounds=[x_bounds, y_bounds], method=\"highs\")\n",
        "\n",
        "# Tampilkan hasilnya\n",
        "print(\"Optimal Solution:\")\n",
        "print(\"x =\", result.x[0])\n",
        "print(\"y =\", result.x[1])\n"
      ],
      "metadata": {
        "colab": {
          "base_uri": "https://localhost:8080/"
        },
        "id": "KJIOy8VT2jFU",
        "outputId": "a83ae5c9-4dd1-4a73-f5ed-16a9bc0a7a51"
      },
      "execution_count": 65,
      "outputs": [
        {
          "output_type": "stream",
          "name": "stdout",
          "text": [
            "Optimal Solution:\n",
            "x = 0.0\n",
            "y = 21.0\n"
          ]
        }
      ]
    },
    {
      "cell_type": "code",
      "source": [
        "#___________________LATIHAN DENGA SCIPY soal nomor 2____________________________\n",
        "#Lisa dan Muri bekerja pada pabrik tas. Lisa dapat menyelesaikan 3 buah tas setiap\n",
        "#jam dan Muri dapat menyelesaikan 4 tas setiap jam. Jumlah jam kerja Lisa dan Muri\n",
        "#adalah 16 jam sehari dengan jumlah tas yang dibuat oleh keduanya adalah 55 tas.\n",
        "#Jika jam kerja keduanya berbeda, tentukan jam kerja mereka masing-masing.\n",
        "\n",
        "from scipy.optimize import linprog\n",
        "\n",
        "# Koefisien fungsi tujuan (minimalkan Z = 0x + 0y)\n",
        "C = [0, 0]\n",
        "\n",
        "# Koefisien matriks batasan\n",
        "A = [\n",
        "    [3, 4],  # 3x + 4y = 55\n",
        "    [1, 1]   # x + y = 16\n",
        "]\n",
        "\n",
        "# Batasan kanan (rhs) dari matriks batasan\n",
        "b = [55, 16]\n",
        "\n",
        "# Batasan variabel x dan y sebagai variabel non-negatif\n",
        "x_bounds = (0, None)\n",
        "y_bounds = (0, None)\n",
        "\n",
        "# Gunakan linprog untuk menyelesaikan masalah pemrograman linier\n",
        "result = linprog(c=C, A_eq=A, b_eq=b, bounds=[x_bounds, y_bounds], method=\"highs\")\n",
        "\n",
        "# Tampilkan hasilnya\n",
        "print(\"Optimal Solution:\")\n",
        "print(\"Jam kerja Lisa (x) =\", result.x[0])\n",
        "print(\"Jam kerja Muri (y) =\", result.x[1])\n"
      ],
      "metadata": {
        "colab": {
          "base_uri": "https://localhost:8080/"
        },
        "id": "-ECHvanG2mBX",
        "outputId": "7266c4d9-2c6d-4eae-83b1-d693f92ac440"
      },
      "execution_count": 68,
      "outputs": [
        {
          "output_type": "stream",
          "name": "stdout",
          "text": [
            "Optimal Solution:\n",
            "Jam kerja Lisa (x) = 9.0\n",
            "Jam kerja Muri (y) = 7.0\n"
          ]
        }
      ]
    }
  ]
}