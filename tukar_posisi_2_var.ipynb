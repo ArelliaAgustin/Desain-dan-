{
  "nbformat": 4,
  "nbformat_minor": 0,
  "metadata": {
    "colab": {
      "provenance": [],
      "authorship_tag": "ABX9TyNj86KwQAZ36VyZybiF0SI4",
      "include_colab_link": true
    },
    "kernelspec": {
      "name": "python3",
      "display_name": "Python 3"
    },
    "language_info": {
      "name": "python"
    }
  },
  "cells": [
    {
      "cell_type": "markdown",
      "metadata": {
        "id": "view-in-github",
        "colab_type": "text"
      },
      "source": [
        "<a href=\"https://colab.research.google.com/github/ArelliaAgustin/Desain-dan-Analisis-Algoritma/blob/main/tukar_posisi_2_var.ipynb\" target=\"_parent\"><img src=\"https://colab.research.google.com/assets/colab-badge.svg\" alt=\"Open In Colab\"/></a>"
      ]
    },
    {
      "cell_type": "code",
      "execution_count": 3,
      "metadata": {
        "colab": {
          "base_uri": "https://localhost:8080/"
        },
        "id": "BzY4PZLuRS8c",
        "outputId": "def67fdc-a130-4acf-9862-59735d6c02dc"
      },
      "outputs": [
        {
          "output_type": "stream",
          "name": "stdout",
          "text": [
            "piring 1 adalah manggis\n",
            "piring 2 adalah pisang\n"
          ]
        }
      ],
      "source": [
        "piring1 = \"pisang\"\n",
        "piring2 = \"manggis\"\n",
        "piring3 = \"\"\n",
        "\n",
        "piring3 = piring1\n",
        "piring1 = piring2\n",
        "piring2 = piring3\n",
        "\n",
        "print(\"piring 1 adalah\", piring1)\n",
        "print(\"piring 2 adalah\", piring2)\n"
      ]
    }
  ]
}