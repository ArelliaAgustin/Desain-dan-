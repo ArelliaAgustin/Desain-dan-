{
  "nbformat": 4,
  "nbformat_minor": 0,
  "metadata": {
    "colab": {
      "provenance": [],
      "authorship_tag": "ABX9TyMdhZpEkZyuAX5Db6DPmTFn",
      "include_colab_link": true
    },
    "kernelspec": {
      "name": "python3",
      "display_name": "Python 3"
    },
    "language_info": {
      "name": "python"
    }
  },
  "cells": [
    {
      "cell_type": "markdown",
      "metadata": {
        "id": "view-in-github",
        "colab_type": "text"
      },
      "source": [
        "<a href=\"https://colab.research.google.com/github/ArelliaAgustin/Desain-dan-Analisis-Algoritma/blob/main/DAA_pertemuan_3.ipynb\" target=\"_parent\"><img src=\"https://colab.research.google.com/assets/colab-badge.svg\" alt=\"Open In Colab\"/></a>"
      ]
    },
    {
      "cell_type": "code",
      "execution_count": 5,
      "metadata": {
        "colab": {
          "base_uri": "https://localhost:8080/"
        },
        "id": "lb101wCY2M6-",
        "outputId": "eb0ebe57-8f86-4b30-ce66-6b7f6aeae5a2"
      },
      "outputs": [
        {
          "output_type": "stream",
          "name": "stdout",
          "text": [
            "['John', 33, 'Toronto', True]\n"
          ]
        }
      ],
      "source": [
        "aList = [\"John\",33,\"Toronto\",True]\n",
        "print(aList)"
      ]
    },
    {
      "cell_type": "code",
      "source": [
        "import datetime\n",
        "x = datetime.datetime.now()\n",
        "\n",
        "mahasiswa = [\"Arellia Agustin\",2022071060,\"Informatika\",\"Desain dan Analisis Algoritma\",x,\"UPJ\"]\n",
        "print(mahasiswa)\n"
      ],
      "metadata": {
        "colab": {
          "base_uri": "https://localhost:8080/"
        },
        "id": "FS5oZmuF2xYI",
        "outputId": "f981d5d4-c1e6-4734-e352-a61c3ff7da01"
      },
      "execution_count": 31,
      "outputs": [
        {
          "output_type": "stream",
          "name": "stdout",
          "text": [
            "['Arellia Agustin', 2022071060, 'Informatika', 'Desain dan Analisis Algoritma', datetime.datetime(2023, 9, 11, 6, 46, 51, 934826), 'UPJ']\n"
          ]
        }
      ]
    },
    {
      "cell_type": "code",
      "source": [
        "from datetime import datetime\n",
        "string_tanggal = \"11 September, 2023\"\n",
        "format_tanggal = \"%d %B, %Y\"\n",
        "\n",
        "tanggal_datetime = datetime.strptime(string_tanggal, format_tanggal)\n",
        "\n",
        "mahasiswa = [\"Arellia Agustin\",2022071060,\"Desain dan Analisis Algoritma\",tanggal_datetime,\"UPJ\"]\n",
        "print(mahasiswa)\n"
      ],
      "metadata": {
        "colab": {
          "base_uri": "https://localhost:8080/"
        },
        "id": "PzLVxZm88Gjd",
        "outputId": "4ca5d71d-73af-453e-a599-3aebbe30b22f"
      },
      "execution_count": 15,
      "outputs": [
        {
          "output_type": "stream",
          "name": "stdout",
          "text": [
            "['Arellia Agustin', 2022071060, 'Desain dan Analisis Algoritma', datetime.datetime(2023, 9, 11, 0, 0), 'UPJ']\n"
          ]
        }
      ]
    },
    {
      "cell_type": "code",
      "source": [
        "from datetime import datetime\n",
        "\n",
        "current_dateTime = datetime.now()\n",
        "\n",
        "print(current_dateTime)"
      ],
      "metadata": {
        "colab": {
          "base_uri": "https://localhost:8080/"
        },
        "id": "9sjI8gTs5laj",
        "outputId": "c48b113f-d009-434c-a2a5-4a78a8f57ed8"
      },
      "execution_count": 7,
      "outputs": [
        {
          "output_type": "stream",
          "name": "stdout",
          "text": [
            "2023-09-11 06:20:50.554426\n"
          ]
        }
      ]
    },
    {
      "cell_type": "code",
      "source": [
        "from datetime import datetime\n",
        "\n",
        "string_tanggal = \"11 September, 2023\"\n",
        "format_tanggal = \"%d %B, %Y\"\n",
        "\n",
        "tanggal_datetime = datetime.strptime(string_tanggal, format_tanggal)\n",
        "print(tanggal_datetime)"
      ],
      "metadata": {
        "colab": {
          "base_uri": "https://localhost:8080/"
        },
        "id": "Ti_oVGbV65Jc",
        "outputId": "994f014b-6126-4a9d-eb24-d87d17d06f5e"
      },
      "execution_count": 13,
      "outputs": [
        {
          "output_type": "stream",
          "name": "stdout",
          "text": [
            "2023-09-11 00:00:00\n"
          ]
        }
      ]
    },
    {
      "cell_type": "code",
      "source": [
        "#list indeks\n",
        "bin_colors=['Red','Green','Blue','Yellow']\n",
        "bin_colors[0]"
      ],
      "metadata": {
        "colab": {
          "base_uri": "https://localhost:8080/",
          "height": 36
        },
        "id": "cxe9jZs99MHH",
        "outputId": "9ee1da8a-6ef0-4243-c010-73dc47cb5b5a"
      },
      "execution_count": 19,
      "outputs": [
        {
          "output_type": "execute_result",
          "data": {
            "text/plain": [
              "'Red'"
            ],
            "application/vnd.google.colaboratory.intrinsic+json": {
              "type": "string"
            }
          },
          "metadata": {},
          "execution_count": 19
        }
      ]
    },
    {
      "cell_type": "code",
      "source": [
        "Mahasiswa = [\"Arellia Agustin\",\"Informatika\",2022071060,\"Desain dan Analisis Algoritma\", x, \"UPJ\"]\n",
        "Mahasiswa[4]"
      ],
      "metadata": {
        "colab": {
          "base_uri": "https://localhost:8080/"
        },
        "id": "L_5qfFWx9qZM",
        "outputId": "1fbd8964-5be6-4c95-b11b-a0079dbde036"
      },
      "execution_count": 38,
      "outputs": [
        {
          "output_type": "execute_result",
          "data": {
            "text/plain": [
              "datetime.datetime(2023, 9, 11, 6, 46, 51, 934826)"
            ]
          },
          "metadata": {},
          "execution_count": 38
        }
      ]
    },
    {
      "cell_type": "code",
      "source": [
        "#List Slicing\n",
        "bin_colors=['Red','Green','Blue','Yellow']\n",
        "bin_colors[0:2] #[a:b] a sebagai indeks mulai dari 0, dan b sebagai batasannya/rentannya mulai dari 1"
      ],
      "metadata": {
        "colab": {
          "base_uri": "https://localhost:8080/"
        },
        "id": "rFEi18GoABmS",
        "outputId": "41b40d4e-93ea-4eb5-ec68-c17f8b9a42b9"
      },
      "execution_count": 61,
      "outputs": [
        {
          "output_type": "execute_result",
          "data": {
            "text/plain": [
              "['Red', 'Green']"
            ]
          },
          "metadata": {},
          "execution_count": 61
        }
      ]
    },
    {
      "cell_type": "code",
      "source": [
        "#List Slicing\n",
        "latihan=[\"Arellia Agustin\",\"Informatika\",2022071060,\"Desain dan Analisis Algoritma\", x, \"UPJ\"]\n",
        "latihan[0:1]"
      ],
      "metadata": {
        "colab": {
          "base_uri": "https://localhost:8080/"
        },
        "id": "z4mpy8GWAusF",
        "outputId": "dbb7cb5c-297e-45df-a00f-9cc643fc35e4"
      },
      "execution_count": 75,
      "outputs": [
        {
          "output_type": "execute_result",
          "data": {
            "text/plain": [
              "['Arellia Agustin']"
            ]
          },
          "metadata": {},
          "execution_count": 75
        }
      ]
    },
    {
      "cell_type": "code",
      "source": [
        "#iterasi(pengulangan)>for loop\n",
        "bin_colors=['Red','Green','Blue','Yellow']\n",
        "for aColor in bin_colors: #\n",
        "  print(\"Square \"+aColor)"
      ],
      "metadata": {
        "colab": {
          "base_uri": "https://localhost:8080/"
        },
        "id": "irm6nDBjBzqg",
        "outputId": "655256bc-019c-4423-b29b-075b9fe9ee50"
      },
      "execution_count": 85,
      "outputs": [
        {
          "output_type": "stream",
          "name": "stdout",
          "text": [
            "Square Red\n",
            "Square Green\n",
            "Square Blue\n",
            "Square Yellow\n"
          ]
        }
      ]
    },
    {
      "cell_type": "code",
      "source": [
        "#latihan iterasi(pengulangan>for loop)\n",
        "Mahasiswa = [\"Arellia Agustin\",\"Informatika\",\"Desain dan Analisis Algoritma\", \"UPJ\"]\n",
        "for aMahasiswa in Mahasiswa:\n",
        "  print(\"UPJ \"+aMahasiswa)"
      ],
      "metadata": {
        "colab": {
          "base_uri": "https://localhost:8080/"
        },
        "id": "P1Dn-F9yDMck",
        "outputId": "8b564e00-2599-492a-e58d-8f8498b29e9a"
      },
      "execution_count": 69,
      "outputs": [
        {
          "output_type": "stream",
          "name": "stdout",
          "text": [
            "UPJ Arellia Agustin\n",
            "UPJ Informatika\n",
            "UPJ Desain dan Analisis Algoritma\n",
            "UPJ UPJ\n"
          ]
        }
      ]
    },
    {
      "cell_type": "code",
      "source": [
        "#Tuples:struktur data yang tidak dapat diubah(read-only)>>()\n",
        "bin_colors=('Red','Green','Blue','Yellow')\n",
        "bin_colors[1:]"
      ],
      "metadata": {
        "colab": {
          "base_uri": "https://localhost:8080/"
        },
        "id": "OVROfCbPF3y6",
        "outputId": "9d233b8a-bb2c-4b2c-d7da-5a87743a08cc"
      },
      "execution_count": 84,
      "outputs": [
        {
          "output_type": "execute_result",
          "data": {
            "text/plain": [
              "('Green', 'Blue', 'Yellow')"
            ]
          },
          "metadata": {},
          "execution_count": 84
        }
      ]
    },
    {
      "cell_type": "code",
      "source": [
        "#latihan tuple\n",
        "UPJ=('Universitas','Pembangunan','jaya')\n",
        "UPJ[1:]"
      ],
      "metadata": {
        "colab": {
          "base_uri": "https://localhost:8080/"
        },
        "id": "0h_M_cgHMYQr",
        "outputId": "0e993feb-8578-4e3e-aeff-7e612456296a"
      },
      "execution_count": 86,
      "outputs": [
        {
          "output_type": "execute_result",
          "data": {
            "text/plain": [
              "('Pembangunan', 'jaya')"
            ]
          },
          "metadata": {},
          "execution_count": 86
        }
      ]
    },
    {
      "cell_type": "code",
      "source": [
        "#Nested Tuple\n",
        "hariAwal = (\"senin\",\"selasa\",\"rabu\")\n",
        "hariAkhir = (\"kamis\",\"jumat\",\"sabtu\")\n",
        "\n",
        "hari = (hariAwal, hariAkhir)\n",
        "print(hari)"
      ],
      "metadata": {
        "colab": {
          "base_uri": "https://localhost:8080/"
        },
        "id": "UVZ1SGxANB6H",
        "outputId": "ee7103d2-ffd6-4adb-81fd-a52c896b13f5"
      },
      "execution_count": 88,
      "outputs": [
        {
          "output_type": "stream",
          "name": "stdout",
          "text": [
            "(('senin', 'selasa', 'rabu'), ('kamis', 'jumat', 'sabtu'))\n"
          ]
        }
      ]
    },
    {
      "cell_type": "code",
      "source": [
        "#Latihan Nested Tuple\n",
        "#buat tuple bersarang bernama \"nested_tuple\" dengan nilai:\n",
        "#pertama=100, kedua=200,400,600, ketiga=300, keempat=400,800\n",
        "pertama = 100\n",
        "kedua = 200,400,600\n",
        "ketiga = 300\n",
        "keempat = 400,800\n",
        "\n",
        "nested_tuple = (pertama,kedua,ketiga,keempat)\n",
        "print(nested_tuple)"
      ],
      "metadata": {
        "colab": {
          "base_uri": "https://localhost:8080/"
        },
        "id": "Px6ZjXlnNc3x",
        "outputId": "a33e4202-cca5-46a4-92af-eb9871c322c9"
      },
      "execution_count": 91,
      "outputs": [
        {
          "output_type": "stream",
          "name": "stdout",
          "text": [
            "(100, (200, 400, 600), 300, (400, 800))\n"
          ]
        }
      ]
    },
    {
      "cell_type": "code",
      "source": [
        "pertama=(\"100\")\n",
        "kedua=(\"200\",\"400\",\"600\")\n",
        "ketiga=(\"300\")\n",
        "keempat=(\"400\",\"800\")\n",
        "\n",
        "nested_tuple = (pertama,kedua,ketiga,keempat)\n",
        "print(nested_tuple)"
      ],
      "metadata": {
        "colab": {
          "base_uri": "https://localhost:8080/"
        },
        "id": "yAFFmi3QPF5H",
        "outputId": "a38a1c9c-5ccd-4a53-fe07-68dfc1693500"
      },
      "execution_count": 92,
      "outputs": [
        {
          "output_type": "stream",
          "name": "stdout",
          "text": [
            "('100', ('200', '400', '600'), '300', ('400', '800'))\n"
          ]
        }
      ]
    },
    {
      "cell_type": "code",
      "source": [
        "#struktur data:dictionary\n",
        "\n",
        "bin_colors={\n",
        "    \"manual_color\":\"Yellow\",\n",
        "    \"approved_color\":\"Green\",\n",
        "    \"refuse_color\":\"Red\"\n",
        "}\n",
        "print(bin_colors)"
      ],
      "metadata": {
        "colab": {
          "base_uri": "https://localhost:8080/"
        },
        "id": "yhoeEJnUQpEE",
        "outputId": "6a70194c-fd69-4ffd-cbaa-6f240ce4f337"
      },
      "execution_count": 93,
      "outputs": [
        {
          "output_type": "stream",
          "name": "stdout",
          "text": [
            "{'manual_color': 'Yellow', 'approved_color': 'Green', 'refuse_color': 'Red'}\n"
          ]
        }
      ]
    },
    {
      "cell_type": "code",
      "source": [
        "#Sets\n",
        "green = {'grass','leaves','laeves'}\n",
        "print(green)"
      ],
      "metadata": {
        "colab": {
          "base_uri": "https://localhost:8080/"
        },
        "id": "dtSpteIBTV04",
        "outputId": "403e9d9d-7bd9-43b8-f10a-5d411a23b53d"
      },
      "execution_count": 94,
      "outputs": [
        {
          "output_type": "stream",
          "name": "stdout",
          "text": [
            "{'leaves', 'laeves', 'grass'}\n"
          ]
        }
      ]
    },
    {
      "cell_type": "code",
      "source": [
        "#Union Set"
      ],
      "metadata": {
        "id": "4hE9T8GOTooJ"
      },
      "execution_count": null,
      "outputs": []
    }
  ]
}