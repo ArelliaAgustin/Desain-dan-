{
  "nbformat": 4,
  "nbformat_minor": 0,
  "metadata": {
    "colab": {
      "provenance": [],
      "authorship_tag": "ABX9TyOOUptv55G6E2aEtD4ugvbi",
      "include_colab_link": true
    },
    "kernelspec": {
      "name": "python3",
      "display_name": "Python 3"
    },
    "language_info": {
      "name": "python"
    }
  },
  "cells": [
    {
      "cell_type": "markdown",
      "metadata": {
        "id": "view-in-github",
        "colab_type": "text"
      },
      "source": [
        "<a href=\"https://colab.research.google.com/github/ArelliaAgustin/Desain-dan-Analisis-Algoritma/blob/main/luas_segitiga.ipynb\" target=\"_parent\"><img src=\"https://colab.research.google.com/assets/colab-badge.svg\" alt=\"Open In Colab\"/></a>"
      ]
    },
    {
      "cell_type": "code",
      "execution_count": 1,
      "metadata": {
        "colab": {
          "base_uri": "https://localhost:8080/"
        },
        "id": "Qcn4Z4DolDWw",
        "outputId": "bbb36968-927d-455e-9d57-8c40e4e05fb0"
      },
      "outputs": [
        {
          "output_type": "stream",
          "name": "stdout",
          "text": [
            "375.0\n"
          ]
        }
      ],
      "source": [
        "alas = 25\n",
        "tinggi = 30\n",
        "\n",
        "luas = 1/2 * alas * tinggi\n",
        "\n",
        "print(luas)"
      ]
    }
  ]
}