{
  "nbformat": 4,
  "nbformat_minor": 0,
  "metadata": {
    "colab": {
      "provenance": [],
      "authorship_tag": "ABX9TyOtkZZqn3uA1Jgvl4dXQeLY",
      "include_colab_link": true
    },
    "kernelspec": {
      "name": "python3",
      "display_name": "Python 3"
    },
    "language_info": {
      "name": "python"
    }
  },
  "cells": [
    {
      "cell_type": "markdown",
      "metadata": {
        "id": "view-in-github",
        "colab_type": "text"
      },
      "source": [
        "<a href=\"https://colab.research.google.com/github/ArelliaAgustin/Desain-dan-Analisis-Algoritma/blob/main/DAA_pertemuan_11.ipynb\" target=\"_parent\"><img src=\"https://colab.research.google.com/assets/colab-badge.svg\" alt=\"Open In Colab\"/></a>"
      ]
    },
    {
      "cell_type": "code",
      "source": [
        "# a ---- b\n",
        "# |      |\n",
        "# |      |\n",
        "# c ---- d ---- e"
      ],
      "metadata": {
        "id": "cXzNHDK5XsyF"
      },
      "execution_count": null,
      "outputs": []
    },
    {
      "cell_type": "code",
      "execution_count": null,
      "metadata": {
        "colab": {
          "base_uri": "https://localhost:8080/"
        },
        "id": "VZfN6HlZWiqH",
        "outputId": "88953901-e379-4f99-a2fb-fabc25e8d7d9"
      },
      "outputs": [
        {
          "output_type": "stream",
          "name": "stdout",
          "text": [
            "{'a': ['b', 'c'], 'b': ['a', 'd'], 'c': ['a', 'd'], 'd': ['e'], 'e': ['d']}\n"
          ]
        }
      ],
      "source": [
        "#slide 28 pertemuan 11\n",
        "#Membuat graoh dengan element V = {a,b,c,d,e}, E = {ab,ac,bd,cd,de}\n",
        "graph = {\"a\" : [\"b\",\"c\"],\n",
        "         \"b\" : [\"a\",\"d\"],\n",
        "         \"c\" : [\"a\",\"d\"],\n",
        "         \"d\" : [\"e\"],\n",
        "         \"e\" : [\"d\"]\n",
        "         }\n",
        "\n",
        "print(graph)\n"
      ]
    },
    {
      "cell_type": "code",
      "source": [
        "#slide 28 pertemuan 11\n",
        "#Membuat graoh dengan element V = {a,b,c,d,e}, E = {ab,ac,bd,cd,de}\n",
        "graph = {\"a\" : [\"b\",\"c\"],\n",
        "         \"b\" : [\"d\"],\n",
        "         \"c\" : [\"d\"],\n",
        "         \"d\" : [\"e\"],\n",
        "         }\n",
        "\n",
        "print(graph)\n"
      ],
      "metadata": {
        "colab": {
          "base_uri": "https://localhost:8080/"
        },
        "id": "NITWy3PKd5IT",
        "outputId": "b2bbc217-23f5-45e2-8874-b656dd4eb453"
      },
      "execution_count": null,
      "outputs": [
        {
          "output_type": "stream",
          "name": "stdout",
          "text": [
            "{'a': ['b', 'c'], 'b': ['d'], 'c': ['d'], 'd': ['e']}\n"
          ]
        }
      ]
    },
    {
      "cell_type": "code",
      "source": [
        "#____________________________________LATIHAN__________________________________________\n",
        "# Buat Graph :\n",
        "# T ---- U ---- V\n",
        "# |             |\n",
        "# W ----------- x\n",
        "# |             |\n",
        "# Z             s\n",
        "\n",
        "graph = {\"T\" : [\"U\",\"W\"],\n",
        "         \"U\" : [\"V\"],\n",
        "         \"V\" : [\"x\"],\n",
        "         \"W\" : [\"x\",\"Z\"],\n",
        "         \"x\" : [\"s\"],\n",
        "         \"Z\" : [\"W\"],\n",
        "         \"s\" : [\"x\"]\n",
        "         }\n",
        "\n",
        "print(graph)"
      ],
      "metadata": {
        "colab": {
          "base_uri": "https://localhost:8080/"
        },
        "id": "A9JqEPAIXsun",
        "outputId": "f7d22b42-908e-4928-8f4d-40c16e858162"
      },
      "execution_count": null,
      "outputs": [
        {
          "output_type": "stream",
          "name": "stdout",
          "text": [
            "{'T': ['U', 'W'], 'U': ['V'], 'V': ['x'], 'W': ['x', 'Z'], 'x': ['s'], 'Z': ['W'], 's': ['x']}\n"
          ]
        }
      ]
    },
    {
      "cell_type": "code",
      "source": [
        "#____________________________________LATIHAN__________________________________________\n",
        "# Buat Graph :\n",
        "# r ---- o ---- m\n",
        "# |      |      |\n",
        "# l ---- p ---- n\n",
        "\n",
        "graph= {\"r\" : [\"o\",\"l\"],\n",
        "         \"o\" : [\"p\",\"m\"],\n",
        "         \"m\" : [\"n\"],\n",
        "         \"l\" : [\"p\"],\n",
        "         \"p\" : [\"n\"],\n",
        "         \"n\" : [\"p\"]\n",
        "         }\n",
        "\n",
        "print(graph)"
      ],
      "metadata": {
        "colab": {
          "base_uri": "https://localhost:8080/"
        },
        "id": "L6M5G-UjZ_RA",
        "outputId": "ba77944b-1ca2-4b01-a1a8-c0d926bcb202"
      },
      "execution_count": null,
      "outputs": [
        {
          "output_type": "stream",
          "name": "stdout",
          "text": [
            "{'r': ['o', 'l'], 'o': ['p', 'm'], 'm': ['n'], 'l': ['p'], 'p': ['n'], 'n': ['p']}\n"
          ]
        }
      ]
    },
    {
      "cell_type": "code",
      "source": [
        "# menampilkan simpul pada graph\n",
        "class Graph :\n",
        "    def __init__(self, gdict=None):\n",
        "        if gdict is None:\n",
        "            gdict = {}\n",
        "        self.gdict = gdict\n",
        "\n",
        "  # Get the keys of the dictionary\n",
        "    def getVertices (self):\n",
        "        return list (self.gdict.keys())\n",
        "\n",
        "# Create dictionary with graph elements\n",
        "graph_elements = {\"a\" : [\"b\",\"c\"],\n",
        "         \"b\" : [\"a\",\"d\"],\n",
        "         \"c\" : [\"a\",\"d\"],\n",
        "         \"d\" : [\"e\"],\n",
        "         \"e\" : [\"d\"]\n",
        "         }\n",
        "\n",
        "# Create an instance of the Graph class and pass the graph_elements\n",
        "g = Graph (graph_elements)\n",
        "\n",
        "# Print the vertices by calling the getVertices method with parenthese\n",
        "print(g.getVertices())"
      ],
      "metadata": {
        "colab": {
          "base_uri": "https://localhost:8080/"
        },
        "id": "IIEbZV6Cb7sz",
        "outputId": "65b17205-68db-4ad8-e95f-06f3b78d8e00"
      },
      "execution_count": null,
      "outputs": [
        {
          "output_type": "stream",
          "name": "stdout",
          "text": [
            "['a', 'b', 'c', 'd', 'e']\n"
          ]
        }
      ]
    },
    {
      "cell_type": "code",
      "source": [
        "#___________________________________LATIHAN___________________________________________\n",
        "# Elemen Simpul Graph TUV\n",
        "\n",
        "# menampilkan simpul pada graph\n",
        "class Graph :\n",
        "    def __init__(self, gdict=None):\n",
        "        if gdict is None:\n",
        "            gdict = {}\n",
        "        self.gdict = gdict\n",
        "\n",
        "  # Get the keys of the dictionary\n",
        "    def getVertices (self):\n",
        "        return list (self.gdict.keys())\n",
        "\n",
        "# Create dictionary with graph elements\n",
        "graph_tuv= {\"T\" : [\"U\",\"W\"],\n",
        "         \"U\" : [\"V\"],\n",
        "         \"V\" : [\"x\"],\n",
        "         \"W\" : [\"x\",\"Z\"],\n",
        "         \"x\" : [\"s\"],\n",
        "         \"Z\" : [\"W\"],\n",
        "         \"s\" : [\"x\"]\n",
        "         }\n",
        "\n",
        "# Create an instance of the Graph class and pass the graph_elements\n",
        "g = Graph (graph_tuv)\n",
        "\n",
        "# Print the vertices by calling the getVertices method with parenthese\n",
        "print(g.getVertices())"
      ],
      "metadata": {
        "colab": {
          "base_uri": "https://localhost:8080/"
        },
        "id": "L40Sa5I3h4NG",
        "outputId": "49ad496c-d1d5-4530-aa08-4e1fafba2a0b"
      },
      "execution_count": null,
      "outputs": [
        {
          "output_type": "stream",
          "name": "stdout",
          "text": [
            "['T', 'U', 'V', 'W', 'x', 'Z', 's']\n"
          ]
        }
      ]
    },
    {
      "cell_type": "code",
      "source": [
        "#___________________________________LATIHAN___________________________________________\n",
        "# Elemen Simpul Graph TUV\n",
        "\n",
        "# menampilkan simpul pada graph\n",
        "class Graph :\n",
        "    def __init__(self, gdict=None):\n",
        "        if gdict is None:\n",
        "            gdict = {}\n",
        "        self.gdict = gdict\n",
        "\n",
        "    def getVertices (self):\n",
        "        return list (self.gdict.keys())\n",
        "\n",
        "graph_rom= {\"r\" : [\"o\",\"l\"],\n",
        "         \"o\" : [\"p\",\"m\"],\n",
        "         \"m\" : [\"n\"],\n",
        "         \"l\" : [\"p\"],\n",
        "         \"p\" : [\"n\"],\n",
        "         \"n\" : [\"p\"]\n",
        "         }\n",
        "\n",
        "g = Graph (graph_rom)\n",
        "\n",
        "print(g.getVertices())"
      ],
      "metadata": {
        "colab": {
          "base_uri": "https://localhost:8080/"
        },
        "id": "L_C6j-dOibE2",
        "outputId": "b2b71136-ffbd-43f4-a1e7-b9ed0b07d161"
      },
      "execution_count": null,
      "outputs": [
        {
          "output_type": "stream",
          "name": "stdout",
          "text": [
            "['r', 'o', 'm', 'l', 'p', 'n']\n"
          ]
        }
      ]
    },
    {
      "cell_type": "code",
      "source": [
        "# Menampilkan Sudut Pada Graph\n",
        "# Edge atau sudut merupakan dua simpul yang dihubungkan,\n",
        "# misalnya ab, ac, bd, cd, de dari graph secara keseluruhan\n",
        "\n",
        "class graph :\n",
        "    def __init__(self,gdict=None):\n",
        "        if gdict is None:\n",
        "            gdict = {}\n",
        "        self.gdict = gdict\n",
        "\n",
        "    def edges(self):\n",
        "        return self.findedges()\n",
        "\n",
        "# Find the distinct List of edges\n",
        "    def findedges(self):\n",
        "        edgename = []\n",
        "        for vrtx in self.gdict:\n",
        "            for nxtvrtx in self.gdict[vrtx] :\n",
        "                if {nxtvrtx, vrtx} not in edgename:\n",
        "                    edgename.append({vrtx, nxtvrtx})\n",
        "            return edgename\n",
        "\n",
        "# Create the dictionary with graph element\n",
        "graph_elements = {\"a\" : [\"b\",\"c\"],\n",
        "                  \"b\" : [\"a\",\"d\"],\n",
        "                  \"c\" : [\"a\",\"d\"],\n",
        "                  \"d\" : [\"e\"],\n",
        "                  \"e\" : [\"d\"]\n",
        "                 }\n",
        "\n",
        "g = Graph(graph_elements)\n",
        "\n",
        "print(g.edges())"
      ],
      "metadata": {
        "colab": {
          "base_uri": "https://localhost:8080/"
        },
        "id": "P6kV6DLghfG5",
        "outputId": "64f0a555-9444-4b5b-e403-04108f5eb0c1"
      },
      "execution_count": null,
      "outputs": [
        {
          "output_type": "stream",
          "name": "stdout",
          "text": [
            "[{'b', 'a'}, {'c', 'a'}]\n"
          ]
        }
      ]
    },
    {
      "cell_type": "code",
      "source": [
        "class Graph:\n",
        "    def __init__(self, gdict=None):\n",
        "        if gdict is None:\n",
        "            gdict = {}\n",
        "        self.gdict = gdict\n",
        "\n",
        "    def edges(self):\n",
        "        return self.find_edges()\n",
        "\n",
        "    # Find the distinct List of edges\n",
        "    def find_edges(self):\n",
        "        edge_names = []\n",
        "        for vertex in self.gdict:\n",
        "            for next_vertex in self.gdict[vertex]:\n",
        "                if {next_vertex, vertex} not in edge_names:\n",
        "                    edge_names.append({vertex, next_vertex})\n",
        "        return edge_names\n",
        "\n",
        "# Create the dictionary with graph element\n",
        "graph_elements = {\"a\": [\"b\", \"c\"],\n",
        "                  \"b\": [\"a\", \"d\"],\n",
        "                  \"c\": [\"a\", \"d\"],\n",
        "                  \"d\": [\"e\"],\n",
        "                  \"e\": [\"d\"]\n",
        "                  }\n",
        "\n",
        "g = Graph(graph_elements)\n",
        "\n",
        "print(g.edges())\n"
      ],
      "metadata": {
        "colab": {
          "base_uri": "https://localhost:8080/"
        },
        "id": "ZxERL87to9X2",
        "outputId": "3c79ad7b-2cdb-4a13-a502-75fd080b8a1e"
      },
      "execution_count": null,
      "outputs": [
        {
          "output_type": "stream",
          "name": "stdout",
          "text": [
            "[{'b', 'a'}, {'c', 'a'}, {'b', 'd'}, {'d', 'c'}, {'e', 'd'}]\n"
          ]
        }
      ]
    },
    {
      "cell_type": "code",
      "source": [
        "#___________________________________LATIHAN_____________________________________\n",
        "class Graph:\n",
        "    def __init__(self, gdict=None):\n",
        "        if gdict is None:\n",
        "            gdict = {}\n",
        "        self.gdict = gdict\n",
        "\n",
        "    def edges(self):\n",
        "        return self.find_edges()\n",
        "\n",
        "    # Find the distinct List of edges\n",
        "    def find_edges(self):\n",
        "        edge_names = []\n",
        "        for vertex in self.gdict:\n",
        "            for next_vertex in self.gdict[vertex]:\n",
        "                if {next_vertex, vertex} not in edge_names:\n",
        "                    edge_names.append({vertex, next_vertex})\n",
        "        return edge_names\n",
        "\n",
        "# Create the dictionary with graph element\n",
        "graph_tuv= {\"T\" : [\"U\",\"W\"],\n",
        "         \"U\" : [\"V\"],\n",
        "         \"V\" : [\"x\"],\n",
        "         \"W\" : [\"x\",\"Z\"],\n",
        "         \"x\" : [\"s\"],\n",
        "         \"Z\" : [\"W\"],\n",
        "         \"s\" : [\"x\"]\n",
        "         }\n",
        "\n",
        "g = Graph(graph_tuv)\n",
        "\n",
        "print(g.edges())\n"
      ],
      "metadata": {
        "colab": {
          "base_uri": "https://localhost:8080/"
        },
        "id": "cRab8sQTp08O",
        "outputId": "b6d4295e-a651-425e-d6cf-9dfa63aaaa69"
      },
      "execution_count": null,
      "outputs": [
        {
          "output_type": "stream",
          "name": "stdout",
          "text": [
            "[{'T', 'U'}, {'T', 'W'}, {'U', 'V'}, {'x', 'V'}, {'x', 'W'}, {'Z', 'W'}, {'x', 's'}]\n"
          ]
        }
      ]
    },
    {
      "cell_type": "code",
      "source": [
        "#___________________________________LATIHAN_____________________________________\n",
        "class Graph:\n",
        "    def __init__(self, gdict=None):\n",
        "        if gdict is None:\n",
        "            gdict = {}\n",
        "        self.gdict = gdict\n",
        "\n",
        "    def edges(self):\n",
        "        return self.find_edges()\n",
        "\n",
        "    # Find the distinct List of edges\n",
        "    def find_edges(self):\n",
        "        edge_names = []\n",
        "        for vertex in self.gdict:\n",
        "            for next_vertex in self.gdict[vertex]:\n",
        "                if {next_vertex, vertex} not in edge_names:\n",
        "                    edge_names.append({vertex, next_vertex})\n",
        "        return edge_names\n",
        "\n",
        "# Create the dictionary with graph element\n",
        "graph_rom= {\"r\" : [\"o\",\"l\"],\n",
        "         \"o\" : [\"p\",\"m\"],\n",
        "         \"m\" : [\"n\"],\n",
        "         \"l\" : [\"p\"],\n",
        "         \"p\" : [\"n\"],\n",
        "         \"n\" : [\"p\"]\n",
        "         }\n",
        "\n",
        "g = Graph(graph_rom)\n",
        "\n",
        "print(g.edges())\n"
      ],
      "metadata": {
        "colab": {
          "base_uri": "https://localhost:8080/"
        },
        "id": "hQkhRQFsqBKa",
        "outputId": "7089ab6a-1372-4473-f0cf-33df9d4b603d"
      },
      "execution_count": null,
      "outputs": [
        {
          "output_type": "stream",
          "name": "stdout",
          "text": [
            "[{'r', 'o'}, {'r', 'l'}, {'o', 'p'}, {'o', 'm'}, {'n', 'm'}, {'p', 'l'}, {'n', 'p'}]\n"
          ]
        }
      ]
    },
    {
      "cell_type": "code",
      "source": [
        "#Menambahkan Vertex / simpul\n",
        "class Graph:\n",
        "    def __init__(self, gdict=None):\n",
        "        if gdict is None:\n",
        "            gdict = {}\n",
        "        self.gdict = gdict\n",
        "\n",
        "    def getVertices(self):\n",
        "        return list (self.gdict.keys())\n",
        "\n",
        "# add the vertex as a key\n",
        "    def addVertex(self,vrtx):\n",
        "        if vrtx not in self.gdict:\n",
        "            self.gdict[vrtx] = []\n",
        "\n",
        "# Create the dictionary with graph element\n",
        "graph_elements = {\"a\": [\"b\", \"c\"],\n",
        "                  \"b\": [\"a\", \"d\"],\n",
        "                  \"c\": [\"a\", \"d\"],\n",
        "                  \"d\": [\"e\"],\n",
        "                  \"e\": [\"d\"]\n",
        "                  }\n",
        "\n",
        "g = Graph(graph_elements)\n",
        "g.addVertex(\"f\")\n",
        "print(g.getVertices())\n"
      ],
      "metadata": {
        "colab": {
          "base_uri": "https://localhost:8080/"
        },
        "id": "NrmQD1a-qeOH",
        "outputId": "f21be893-3852-4da9-8428-6f7587fcd4fd"
      },
      "execution_count": null,
      "outputs": [
        {
          "output_type": "stream",
          "name": "stdout",
          "text": [
            "['a', 'b', 'c', 'd', 'e', 'f']\n"
          ]
        }
      ]
    },
    {
      "cell_type": "code",
      "source": [
        "#_____________________________________LATIHAN__________________________\n",
        "class Graph:\n",
        "    def __init__(self, gdict=None):\n",
        "        if gdict is None:\n",
        "            gdict = {}\n",
        "        self.gdict = gdict\n",
        "\n",
        "    def getVertices(self):\n",
        "        return list (self.gdict.keys())\n",
        "\n",
        "# add the vertex as a key\n",
        "    def addVertex(self,vrtx):\n",
        "        if vrtx not in self.gdict:\n",
        "            self.gdict[vrtx] = []\n",
        "\n",
        "# Create the dictionary with graph element\n",
        "graph_tuv= {\"T\" : [\"U\",\"W\"],\n",
        "         \"U\" : [\"V\"],\n",
        "         \"V\" : [\"x\"],\n",
        "         \"W\" : [\"x\",\"Z\"],\n",
        "         \"x\" : [\"s\"],\n",
        "         \"Z\" : [\"W\"],\n",
        "         \"s\" : [\"x\"]\n",
        "         }\n",
        "\n",
        "g = Graph(graph_tuv)\n",
        "g.addVertex(\"f\")\n",
        "print(g.getVertices())"
      ],
      "metadata": {
        "colab": {
          "base_uri": "https://localhost:8080/"
        },
        "id": "utUgrRztu3Yw",
        "outputId": "425b10e0-637a-435a-f109-e9405abbcd88"
      },
      "execution_count": null,
      "outputs": [
        {
          "output_type": "stream",
          "name": "stdout",
          "text": [
            "['T', 'U', 'V', 'W', 'x', 'Z', 's', 'f']\n"
          ]
        }
      ]
    },
    {
      "cell_type": "code",
      "source": [
        "#_________________________________LATIHAN___________________________________________\n",
        "class Graph:\n",
        "    def __init__(self, gdict=None):\n",
        "        if gdict is None:\n",
        "            gdict = {}\n",
        "        self.gdict = gdict\n",
        "\n",
        "    def getVertices(self):\n",
        "        return list (self.gdict.keys())\n",
        "\n",
        "# add the vertex as a key\n",
        "    def addVertex(self,vrtx):\n",
        "        if vrtx not in self.gdict:\n",
        "            self.gdict[vrtx] = []\n",
        "\n",
        "# Create the dictionary with graph element\n",
        "graph_rom= {\"r\" : [\"o\",\"l\"],\n",
        "         \"o\" : [\"p\",\"m\"],\n",
        "         \"m\" : [\"n\"],\n",
        "         \"l\" : [\"p\"],\n",
        "         \"p\" : [\"n\"],\n",
        "         \"n\" : [\"p\"]\n",
        "         }\n",
        "\n",
        "g = Graph(graph_rom)\n",
        "g.addVertex(\"f\")\n",
        "print(g.getVertices())\n"
      ],
      "metadata": {
        "colab": {
          "base_uri": "https://localhost:8080/"
        },
        "id": "xHj3Tlmru9B7",
        "outputId": "c5a005fb-2653-4259-b05e-9013065e4b99"
      },
      "execution_count": null,
      "outputs": [
        {
          "output_type": "stream",
          "name": "stdout",
          "text": [
            "['r', 'o', 'm', 'l', 'p', 'n', 'f']\n"
          ]
        }
      ]
    },
    {
      "cell_type": "code",
      "source": [
        "# Menambahkan Edge/ Sudut\n",
        "# Tambahkan sudut a ke e dan a ke c\n",
        "class Graph:\n",
        "  def __init__(self, gdict=None):\n",
        "    if gdict is None:\n",
        "      gdict = {}\n",
        "    self.gdict = gdict\n",
        "\n",
        "  def edges(self):\n",
        "    return self.findedges()\n",
        "\n",
        "# Add the new edge\n",
        "  def addEdge(self, edge):\n",
        "    edge = set(edge)\n",
        "    (vrtx1, vrtx2) = tuple(edge)\n",
        "    if vrtx1 in self.gdict:\n",
        "      self.gdict[vrtx1].append(vrtx2)\n",
        "    else:\n",
        "      self.gdict[vrtx1] = [vrtx2]\n",
        "\n",
        "# List the edge name\n",
        "  def findedges(self):\n",
        "    edgename = []\n",
        "    for vrtx in self.gdict:\n",
        "      for nxtvrtx in self.gdict[vrtx]:\n",
        "        if {nxtvrtx, vrtx} not in edgename:\n",
        "          edgename.append({vrtx, nxtvrtx})\n",
        "    return edgename\n",
        "\n",
        "#create the dictionary with graph elements\n",
        "graph_elements = {\"a\": [\"b\", \"c\"],\n",
        "                  \"b\": [\"a\", \"d\"],\n",
        "                  \"c\": [\"a\", \"d\"],\n",
        "                  \"d\": [\"e\"],\n",
        "                  \"e\": [\"d\"]\n",
        "                  }\n",
        "\n",
        "g = Graph(graph_elements)\n",
        "g.addEdge({'a','e'})\n",
        "g.addEdge({'a','c'})\n",
        "print(g.edges())"
      ],
      "metadata": {
        "colab": {
          "base_uri": "https://localhost:8080/"
        },
        "id": "QOmgU6JvvTiL",
        "outputId": "aabd6bf1-df83-4838-e40c-3ce87723b15d"
      },
      "execution_count": null,
      "outputs": [
        {
          "output_type": "stream",
          "name": "stdout",
          "text": [
            "[{'b', 'a'}, {'c', 'a'}, {'b', 'd'}, {'d', 'c'}, {'e', 'd'}, {'e', 'a'}]\n"
          ]
        }
      ]
    },
    {
      "cell_type": "code",
      "source": [
        "# Menambahkan Edge/ Sudut\n",
        "# Tambahkan sudut a ke e dan a ke c\n",
        "class Graph:\n",
        "  def __init__(self, gdict=None):\n",
        "    if gdict is None:\n",
        "      gdict = {}\n",
        "    self.gdict = gdict\n",
        "\n",
        "  def edges(self):\n",
        "    return self.findedges()\n",
        "\n",
        "# Add the new edge\n",
        "  def addEdge(self, edge):\n",
        "    edge = set(edge)\n",
        "    (vrtx1, vrtx2) = tuple(edge)\n",
        "    if vrtx1 in self.gdict:\n",
        "      self.gdict[vrtx1].append(vrtx2)\n",
        "    else:\n",
        "      self.gdict[vrtx1] = [vrtx2]\n",
        "\n",
        "# List the edge name\n",
        "  def findedges(self):\n",
        "    edgename = []\n",
        "    for vrtx in self.gdict:\n",
        "      for nxtvrtx in self.gdict[vrtx]:\n",
        "        if {nxtvrtx, vrtx} not in edgename:\n",
        "          edgename.append({vrtx, nxtvrtx})\n",
        "    return edgename\n",
        "\n",
        "#create the dictionary with graph elements\n",
        "graph_tuv= {\"T\" : [\"U\",\"W\"],\n",
        "         \"U\" : [\"V\"],\n",
        "         \"V\" : [\"x\"],\n",
        "         \"W\" : [\"x\",\"Z\"],\n",
        "         \"x\" : [\"s\"],\n",
        "         \"Z\" : [\"W\"],\n",
        "         \"s\" : [\"x\"]\n",
        "         }\n",
        "\n",
        "g = Graph(graph_tuv)\n",
        "g.addEdge({'a','e'})\n",
        "g.addEdge({'a','c'})\n",
        "print(g.edges())"
      ],
      "metadata": {
        "colab": {
          "base_uri": "https://localhost:8080/"
        },
        "id": "pO3nQ89Xwhuf",
        "outputId": "ed58abcc-80ae-49e8-d9f4-9f863ff7c8e4"
      },
      "execution_count": null,
      "outputs": [
        {
          "output_type": "stream",
          "name": "stdout",
          "text": [
            "[{'T', 'U'}, {'T', 'W'}, {'U', 'V'}, {'x', 'V'}, {'x', 'W'}, {'Z', 'W'}, {'x', 's'}, {'e', 'a'}, {'c', 'a'}]\n"
          ]
        }
      ]
    },
    {
      "cell_type": "code",
      "source": [
        "# Menambahkan Edge/ Sudut\n",
        "# Tambahkan sudut a ke e dan a ke c\n",
        "class Graph:\n",
        "  def __init__(self, gdict=None):\n",
        "    if gdict is None:\n",
        "      gdict = {}\n",
        "    self.gdict = gdict\n",
        "\n",
        "  def edges(self):\n",
        "    return self.findedges()\n",
        "\n",
        "# Add the new edge\n",
        "  def addEdge(self, edge):\n",
        "    edge = set(edge)\n",
        "    (vrtx1, vrtx2) = tuple(edge)\n",
        "    if vrtx1 in self.gdict:\n",
        "      self.gdict[vrtx1].append(vrtx2)\n",
        "    else:\n",
        "      self.gdict[vrtx1] = [vrtx2]\n",
        "\n",
        "# List the edge name\n",
        "  def findedges(self):\n",
        "    edgename = []\n",
        "    for vrtx in self.gdict:\n",
        "      for nxtvrtx in self.gdict[vrtx]:\n",
        "        if {nxtvrtx, vrtx} not in edgename:\n",
        "          edgename.append({vrtx, nxtvrtx})\n",
        "    return edgename\n",
        "\n",
        "#create the dictionary with graph elements\n",
        "graph_rom= {\"r\" : [\"o\",\"l\"],\n",
        "         \"o\" : [\"p\",\"m\"],\n",
        "         \"m\" : [\"n\"],\n",
        "         \"l\" : [\"p\"],\n",
        "         \"p\" : [\"n\"],\n",
        "         \"n\" : [\"p\"]\n",
        "         }\n",
        "\n",
        "g = Graph(graph_rom)\n",
        "g.addEdge({'a','e'})\n",
        "g.addEdge({'a','c'})\n",
        "print(g.edges())"
      ],
      "metadata": {
        "colab": {
          "base_uri": "https://localhost:8080/"
        },
        "id": "9bypOVQ7zD0D",
        "outputId": "8d0d4de2-ef57-40e6-dc06-773e808f5364"
      },
      "execution_count": null,
      "outputs": [
        {
          "output_type": "stream",
          "name": "stdout",
          "text": [
            "[{'r', 'o'}, {'r', 'l'}, {'o', 'p'}, {'o', 'm'}, {'n', 'm'}, {'p', 'l'}, {'n', 'p'}, {'e', 'a'}, {'c', 'a'}]\n"
          ]
        }
      ]
    }
  ]
}