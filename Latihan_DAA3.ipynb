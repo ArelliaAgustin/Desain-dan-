{
  "nbformat": 4,
  "nbformat_minor": 0,
  "metadata": {
    "colab": {
      "provenance": [],
      "authorship_tag": "ABX9TyPLmDgbaUaBST380LqwtX2G",
      "include_colab_link": true
    },
    "kernelspec": {
      "name": "python3",
      "display_name": "Python 3"
    },
    "language_info": {
      "name": "python"
    }
  },
  "cells": [
    {
      "cell_type": "markdown",
      "metadata": {
        "id": "view-in-github",
        "colab_type": "text"
      },
      "source": [
        "<a href=\"https://colab.research.google.com/github/ArelliaAgustin/Desain-dan-Analisis-Algoritma/blob/main/Latihan_DAA3.ipynb\" target=\"_parent\"><img src=\"https://colab.research.google.com/assets/colab-badge.svg\" alt=\"Open In Colab\"/></a>"
      ]
    },
    {
      "cell_type": "code",
      "execution_count": null,
      "metadata": {
        "colab": {
          "base_uri": "https://localhost:8080/"
        },
        "id": "vKJtL-JHeSHI",
        "outputId": "f0674de1-9015-4480-dd0a-8e43be18a027"
      },
      "outputs": [
        {
          "output_type": "stream",
          "name": "stdout",
          "text": [
            "['Arellia Agustin', 2022071060, 'Informatika', 'Desain dan Analisis Algoritma', datetime.datetime(2023, 9, 11, 9, 2, 57, 281645), 'UPJ']\n"
          ]
        }
      ],
      "source": [
        "#slide6 latihan list\n",
        "import datetime\n",
        "x = datetime.datetime.now()\n",
        "\n",
        "mahasiswa = [\"Arellia Agustin\",2022071060,\"Informatika\",\"Desain dan Analisis Algoritma\",x,\"UPJ\"]\n",
        "print(mahasiswa)"
      ]
    },
    {
      "cell_type": "code",
      "source": [
        "#slide 8 cetak NIM masing-masing dengan memanggil urutan indeks dalam list mahasiswa\n",
        "import datetime\n",
        "x = datetime.datetime.now()\n",
        "\n",
        "Mahasiswa = [\"Arellia Agustin\",2022071060,\"Informatika\",\"Desain dan Analisis Algoritma\", x, \"UPJ\"]\n",
        "Mahasiswa[1]"
      ],
      "metadata": {
        "colab": {
          "base_uri": "https://localhost:8080/"
        },
        "id": "dpeAVAaAetnG",
        "outputId": "e7f3e0b9-ced8-4870-e90f-77d463aa3443"
      },
      "execution_count": null,
      "outputs": [
        {
          "output_type": "execute_result",
          "data": {
            "text/plain": [
              "2022071060"
            ]
          },
          "metadata": {},
          "execution_count": 7
        }
      ]
    },
    {
      "cell_type": "code",
      "source": [
        "#slide 9 cetak nama universitas dengan memanggil urutan indeks dalam list mahasiswa\n",
        "import datetime\n",
        "x = datetime.datetime.now()\n",
        "\n",
        "Mahasiswa = [\"Arellia Agustin\",2022071060,\"Informatika\",\"Desain dan Analisis Algoritma\", x, \"UPJ\"]\n",
        "Mahasiswa[5]"
      ],
      "metadata": {
        "colab": {
          "base_uri": "https://localhost:8080/",
          "height": 36
        },
        "id": "BCcvygnR7xOu",
        "outputId": "985c4bba-864f-42b0-e0ee-742488f1e3ef"
      },
      "execution_count": null,
      "outputs": [
        {
          "output_type": "execute_result",
          "data": {
            "text/plain": [
              "'UPJ'"
            ],
            "application/vnd.google.colaboratory.intrinsic+json": {
              "type": "string"
            }
          },
          "metadata": {},
          "execution_count": 8
        }
      ]
    },
    {
      "cell_type": "code",
      "source": [
        "#slide 11 cetak NIM dan Prodi menggunakan slicing\n",
        "#List Slicing\n",
        "latihan=[\"Arellia Agustin\",2022071060,\"Informatika\",\"Desain dan Analisis Algoritma\", x, \"UPJ\"]\n",
        "latihan[1:3]"
      ],
      "metadata": {
        "colab": {
          "base_uri": "https://localhost:8080/"
        },
        "id": "zdOFCZbB7Ft3",
        "outputId": "733515cf-8583-485a-ccdc-d935fe7c9c98"
      },
      "execution_count": null,
      "outputs": [
        {
          "output_type": "execute_result",
          "data": {
            "text/plain": [
              "[2022071060, 'Informatika']"
            ]
          },
          "metadata": {},
          "execution_count": 11
        }
      ]
    },
    {
      "cell_type": "code",
      "source": [
        "#slide 13 cetak isi list \"mahasiswa\", tambahkan kata \"upj\" didepan!\n",
        "#latihan iterasi(pengulangan>for loop)\n",
        "Mahasiswa = [\"Arellia Agustin\",\"Informatika\",\"Desain dan Analisis Algoritma\",\"UPJ\"]\n",
        "for aTambahan in Mahasiswa:\n",
        "  print(\"UPJ \"+aTambahan)"
      ],
      "metadata": {
        "colab": {
          "base_uri": "https://localhost:8080/"
        },
        "id": "03wFPL-f9bpK",
        "outputId": "b42db095-b173-42df-f78c-e5fb90b52c5f"
      },
      "execution_count": null,
      "outputs": [
        {
          "output_type": "stream",
          "name": "stdout",
          "text": [
            "UPJ Arellia Agustin\n",
            "UPJ Informatika\n",
            "UPJ Desain dan Analisis Algoritma\n",
            "UPJ UPJ\n"
          ]
        }
      ]
    },
    {
      "cell_type": "code",
      "source": [
        "#slide 15 susun tuple bernama \"upj\", isi dengan universitas, pembangunan, jaya\n",
        "UPJ=('Universitas','Pembangunan','jaya')\n",
        "UPJ[1:]"
      ],
      "metadata": {
        "colab": {
          "base_uri": "https://localhost:8080/"
        },
        "id": "FZPKcyE2-AEs",
        "outputId": "69c09a9b-bb2a-4be1-a971-8c18fe565e65"
      },
      "execution_count": null,
      "outputs": [
        {
          "output_type": "execute_result",
          "data": {
            "text/plain": [
              "('Pembangunan', 'jaya')"
            ]
          },
          "metadata": {},
          "execution_count": 16
        }
      ]
    },
    {
      "cell_type": "code",
      "source": [
        "#slide 17\n",
        "#buat tuple bersarang bernama \"nested_tuple\" dengan nilai:\n",
        "#pertama=100, kedua=200,400,600, ketiga=300, keempat=400,800\n",
        "pertama=(\"100\")\n",
        "kedua=(\"200\",\"400\",\"600\")\n",
        "ketiga=(\"300\")\n",
        "keempat=(\"400\",\"800\")\n",
        "\n",
        "nested_tuple = (pertama,kedua,ketiga,keempat)\n",
        "print(nested_tuple)"
      ],
      "metadata": {
        "colab": {
          "base_uri": "https://localhost:8080/"
        },
        "id": "v6BcPAZa-VPJ",
        "outputId": "104b5095-4d25-470b-e3fb-7cc5e7181f39"
      },
      "execution_count": null,
      "outputs": [
        {
          "output_type": "stream",
          "name": "stdout",
          "text": [
            "('100', ('200', '400', '600'), '300', ('400', '800'))\n"
          ]
        }
      ]
    },
    {
      "cell_type": "code",
      "source": [
        "#slide 21\n",
        "#Latihan dictionary\n",
        "mahasiswa={\n",
        "    \"Nama\":\"Arellia Agustin\",\n",
        "    \"NIM\":\"2022071060\",\n",
        "    \"Prodi\":\"Informatika\",\n",
        "    \"Universitas\":\"UPJ\"\n",
        "}\n",
        "print(mahasiswa)"
      ],
      "metadata": {
        "colab": {
          "base_uri": "https://localhost:8080/"
        },
        "id": "Tb0E1zH8-nlb",
        "outputId": "969b0950-7e69-4882-c7d6-74fece8e51d6"
      },
      "execution_count": null,
      "outputs": [
        {
          "output_type": "stream",
          "name": "stdout",
          "text": [
            "{'Nama': 'Arellia Agustin', 'NIM': '2022071060', 'Prodi': 'Informatika', 'Universitas': 'UPJ'}\n"
          ]
        }
      ]
    },
    {
      "cell_type": "code",
      "source": [
        "#slide 34 bagaimana menyusun ref sehingga mendapatkan hasil berikut\n",
        "#>>>yellow|red {'dandelions','fire hydrant','blood','rose','leaves'}\n",
        "#>>>yellow&red {'leaves','firehydrant'}\n",
        "yellow = {'dandelions','fire hydrant','leaves'}\n",
        "red = {'leaves', 'fire hydrant','rose','blood'}\n",
        "print(yellow|red)\n",
        "print(yellow&red)\n"
      ],
      "metadata": {
        "id": "auh93mJh--Ex",
        "colab": {
          "base_uri": "https://localhost:8080/"
        },
        "outputId": "8afa3cf3-87c2-44a1-98cc-6a3a531df879"
      },
      "execution_count": 1,
      "outputs": [
        {
          "output_type": "stream",
          "name": "stdout",
          "text": [
            "{'leaves', 'fire hydrant', 'blood', 'dandelions', 'rose'}\n",
            "{'leaves', 'fire hydrant'}\n"
          ]
        }
      ]
    },
    {
      "cell_type": "code",
      "source": [
        "#slide 41 buat data frame bernama mahasiswa\n",
        "import pandas as pd\n",
        "\n",
        "data={\n",
        "    \"no\":[1,2,3],\n",
        "    \"prodi\": [\"informatika\",\"Sistem informasi\",\"Teknik Sipil\"],\n",
        "    \"Mahasiswa\": [50 ,55 ,40],\n",
        "    \"lakilaki\": [30,30,30],\n",
        "    \"Perembuan\" : [20,25,10]\n",
        "}\n",
        "df = pd.DataFrame(data, index = ['-','-','-'])\n",
        "print(df)\n"
      ],
      "metadata": {
        "id": "VBM1B7kn_KgS",
        "colab": {
          "base_uri": "https://localhost:8080/"
        },
        "outputId": "11ab9054-d586-4e56-95aa-2e3839744dde"
      },
      "execution_count": 2,
      "outputs": [
        {
          "output_type": "stream",
          "name": "stdout",
          "text": [
            "   no             prodi  Mahasiswa  lakilaki  Perembuan\n",
            "-   1       informatika         50        30         20\n",
            "-   2  Sistem informasi         55        30         25\n",
            "-   3      Teknik Sipil         40        30         10\n"
          ]
        }
      ]
    },
    {
      "cell_type": "code",
      "source": [
        "#slide 44 Buatlah matrix & transpose matriks\n",
        "import numpy as np\n",
        "matriksA = np.array ([[100,200,300],\n",
        "                      [700,600,500],\n",
        "                      [900,1000,800]])\n",
        "\n",
        "print(\"matriks A:\")\n",
        "print(matriksA)\n",
        "\n",
        "transpose_matriks = np.transpose(matriksA)\n",
        "\n",
        "print(\"Transpose Matriks A:\")\n",
        "print(transpose_matriks)"
      ],
      "metadata": {
        "colab": {
          "base_uri": "https://localhost:8080/"
        },
        "id": "8ulCH5zGS0Hn",
        "outputId": "46f4858e-c9cf-4f7d-a412-f45127b0ae34"
      },
      "execution_count": null,
      "outputs": [
        {
          "output_type": "stream",
          "name": "stdout",
          "text": [
            "matriks A:\n",
            "[[ 100  200  300]\n",
            " [ 700  600  500]\n",
            " [ 900 1000  800]]\n",
            "Transpose Matriks A:\n",
            "[[ 100  700  900]\n",
            " [ 200  600 1000]\n",
            " [ 300  500  800]]\n"
          ]
        }
      ]
    }
  ]
}